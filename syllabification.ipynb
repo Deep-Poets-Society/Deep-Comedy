{
  "nbformat": 4,
  "nbformat_minor": 0,
  "metadata": {
    "kernelspec": {
      "display_name": "Python 3",
      "language": "python",
      "name": "python3"
    },
    "language_info": {
      "codemirror_mode": {
        "name": "ipython",
        "version": 2
      },
      "file_extension": ".py",
      "mimetype": "text/x-python",
      "name": "python",
      "nbconvert_exporter": "python",
      "pygments_lexer": "ipython2",
      "version": "2.7.6"
    },
    "colab": {
      "name": "syllabification.ipynb",
      "provenance": [],
      "include_colab_link": true
    },
    "accelerator": "GPU"
  },
  "cells": [
    {
      "cell_type": "markdown",
      "metadata": {
        "id": "view-in-github",
        "colab_type": "text"
      },
      "source": [
        "<a href=\"https://colab.research.google.com/github/Deep-Poets-Society/Deep-Comedy/blob/main/syllabification.ipynb\" target=\"_parent\"><img src=\"https://colab.research.google.com/assets/colab-badge.svg\" alt=\"Open In Colab\"/></a>"
      ]
    },
    {
      "cell_type": "code",
      "metadata": {
        "pycharm": {
          "name": "#%%\n"
        },
        "colab": {
          "base_uri": "https://localhost:8080/"
        },
        "id": "YxtwPLxT76_v",
        "outputId": "2ff2682f-5786-4644-9a85-b81dbaefbff1"
      },
      "source": [
        "# Google Colab Setup\n",
        "\n",
        "import sys\n",
        "import os\n",
        "\n",
        "%cd /content\n",
        "!rm -rf Deep-Comedy &> /dev/null\n",
        "!git clone https://github.com/Deep-Poets-Society/Deep-Comedy &> /dev/null\n",
        "%cd Deep-Comedy\n",
        "\n",
        "sys.path.append(os.getcwd())\n",
        "\n",
        "!pip install tensorflow &> /dev/null\n",
        "!pip install tensorflow_text &> /dev/null"
      ],
      "execution_count": 1,
      "outputs": [
        {
          "output_type": "stream",
          "text": [
            "/content\n",
            "/content/Deep-Comedy\n"
          ],
          "name": "stdout"
        }
      ]
    },
    {
      "cell_type": "code",
      "metadata": {
        "collapsed": true,
        "id": "SVpfSGbc76_0"
      },
      "source": [
        "from tokenizer import Tokenizer\n",
        "import tensorflow as tf\n",
        "import time\n",
        "import numpy as np\n",
        "import re\n",
        "from matplotlib import pyplot as plt\n",
        "from utils import load_dataset, positional_encoding, loss_function, accuracy_function\n",
        "from models import Transformer, create_masks\n",
        "from schedules import CustomSchedule"
      ],
      "execution_count": 2,
      "outputs": []
    },
    {
      "cell_type": "code",
      "metadata": {
        "pycharm": {
          "name": "#%%\n"
        },
        "id": "_pC38vOo76_1"
      },
      "source": [
        "dataset = load_dataset()\n",
        "train = dataset['train']\n",
        "val = dataset['val']"
      ],
      "execution_count": 3,
      "outputs": []
    },
    {
      "cell_type": "code",
      "metadata": {
        "pycharm": {
          "name": "#%%\n"
        },
        "colab": {
          "base_uri": "https://localhost:8080/"
        },
        "id": "ge6ISrs276_2",
        "outputId": "cce86f95-4abb-4269-aebc-a97a346f6d78"
      },
      "source": [
        "tokenizer = Tokenizer(['[START]', '[END]', 'C', 'S', 'Y'], 'res/vocab.txt')"
      ],
      "execution_count": 4,
      "outputs": [
        {
          "output_type": "stream",
          "text": [
            "WARNING:tensorflow:From /usr/local/lib/python3.7/dist-packages/tensorflow/python/ops/array_ops.py:5049: calling gather (from tensorflow.python.ops.array_ops) with validate_indices is deprecated and will be removed in a future version.\n",
            "Instructions for updating:\n",
            "The `validate_indices` argument has no effect. Indices are always validated on CPU and never validated on GPU.\n"
          ],
          "name": "stdout"
        }
      ]
    },
    {
      "cell_type": "code",
      "metadata": {
        "pycharm": {
          "name": "#%%\n"
        },
        "id": "Z90Qnjvj76_2"
      },
      "source": [
        "BUFFER_SIZE = 20000\n",
        "BATCH_SIZE = 64"
      ],
      "execution_count": 5,
      "outputs": []
    },
    {
      "cell_type": "code",
      "metadata": {
        "pycharm": {
          "name": "#%%\n"
        },
        "id": "MQDmslrv76_3"
      },
      "source": [
        "def tokenize_pairs(X, y):\n",
        "    X = tokenizer.tokenize(X)\n",
        "    # Convert from ragged to dense, padding with zeros.\n",
        "    X = X.to_tensor()\n",
        "\n",
        "    y = tokenizer.tokenize(y)\n",
        "    # Convert from ragged to dense, padding with zeros.\n",
        "    y = y.to_tensor()\n",
        "\n",
        "    return X, y\n",
        "\n",
        "\n",
        "def make_batches(ds):\n",
        "    return (ds\n",
        "            .cache()\n",
        "            .shuffle(BUFFER_SIZE)\n",
        "            .batch(BATCH_SIZE)\n",
        "            .map(tokenize_pairs, num_parallel_calls=tf.data.AUTOTUNE)\n",
        "            .prefetch(tf.data.AUTOTUNE)\n",
        "            )"
      ],
      "execution_count": 6,
      "outputs": []
    },
    {
      "cell_type": "code",
      "metadata": {
        "pycharm": {
          "name": "#%%\n"
        },
        "id": "t9dqLEW576_4"
      },
      "source": [
        "train_batches = make_batches(train)\n",
        "val_batches = make_batches(val)"
      ],
      "execution_count": 7,
      "outputs": []
    },
    {
      "cell_type": "code",
      "metadata": {
        "pycharm": {
          "name": "#%%\n"
        },
        "colab": {
          "base_uri": "https://localhost:8080/",
          "height": 300
        },
        "id": "qzQdV4aA76_5",
        "outputId": "5a83f573-ac80-41cb-978d-8505836e7578"
      },
      "source": [
        "n, d = 2048, 512\n",
        "pos_encoding = positional_encoding(n, d)\n",
        "print(pos_encoding.shape)\n",
        "pos_encoding = pos_encoding[0]\n",
        "# Juggle the dimensions for the plot\n",
        "pos_encoding = tf.reshape(pos_encoding, (n, d//2, 2))\n",
        "pos_encoding = tf.transpose(pos_encoding, (2, 1, 0))\n",
        "pos_encoding = tf.reshape(pos_encoding, (d, n))\n",
        "\n",
        "plt.pcolormesh(pos_encoding, cmap='RdBu')\n",
        "plt.ylabel('Depth')\n",
        "plt.xlabel('Position')\n",
        "plt.colorbar()\n",
        "plt.show()"
      ],
      "execution_count": 8,
      "outputs": [
        {
          "output_type": "stream",
          "text": [
            "(1, 2048, 512)\n"
          ],
          "name": "stdout"
        },
        {
          "output_type": "display_data",
          "data": {
            "image/png": "[encoded data removed]",
            "text/plain": [
              "<Figure size 432x288 with 2 Axes>"
            ]
          },
          "metadata": {
            "tags": [],
            "needs_background": "light"
          }
        }
      ]
    },
    {
      "cell_type": "markdown",
      "metadata": {
        "collapsed": false,
        "pycharm": {
          "name": "#%% md\n"
        },
        "id": "YduVLR1f76_7"
      },
      "source": [
        "Set hyperparameters"
      ]
    },
    {
      "cell_type": "code",
      "metadata": {
        "pycharm": {
          "name": "#%%\n"
        },
        "id": "axNIKKPo76_8"
      },
      "source": [
        "num_layers = 4\n",
        "d_model = 128\n",
        "dff = 512\n",
        "num_heads = 8\n",
        "dropout_rate = 0.1"
      ],
      "execution_count": 9,
      "outputs": []
    },
    {
      "cell_type": "markdown",
      "metadata": {
        "collapsed": false,
        "pycharm": {
          "name": "#%% md\n"
        },
        "id": "s0JaO32e76_8"
      },
      "source": [
        "Set Adam optimizer"
      ]
    },
    {
      "cell_type": "code",
      "metadata": {
        "pycharm": {
          "name": "#%%\n"
        },
        "id": "tvf9DGm_76_9"
      },
      "source": [
        "learning_rate = CustomSchedule(d_model)\n",
        "\n",
        "optimizer = tf.keras.optimizers.Adam(learning_rate, beta_1=0.9, beta_2=0.98,\n",
        "                                     epsilon=1e-9)"
      ],
      "execution_count": 10,
      "outputs": []
    },
    {
      "cell_type": "markdown",
      "metadata": {
        "collapsed": false,
        "pycharm": {
          "name": "#%% md\n"
        },
        "id": "rhbyvh1V76_9"
      },
      "source": [
        "Loss and metrics"
      ]
    },
    {
      "cell_type": "code",
      "metadata": {
        "pycharm": {
          "name": "#%%\n"
        },
        "id": "0ibrjIhu76_-"
      },
      "source": [
        "train_loss = tf.keras.metrics.Mean(name='train_loss')\n",
        "train_accuracy = tf.keras.metrics.Mean(name='train_accuracy')"
      ],
      "execution_count": 11,
      "outputs": []
    },
    {
      "cell_type": "markdown",
      "metadata": {
        "collapsed": false,
        "pycharm": {
          "name": "#%% md\n"
        },
        "id": "-VILmZWK76_-"
      },
      "source": [
        "Training and checkpoint"
      ]
    },
    {
      "cell_type": "code",
      "metadata": {
        "pycharm": {
          "name": "#%%\n"
        },
        "id": "3k0JgARb76_-"
      },
      "source": [
        "transformer = Transformer(\n",
        "    num_layers=num_layers,\n",
        "    d_model=d_model,\n",
        "    num_heads=num_heads,\n",
        "    dff=dff,\n",
        "    input_vocab_size=tokenizer.get_vocab_size().numpy(),\n",
        "    target_vocab_size=tokenizer.get_vocab_size().numpy(),\n",
        "    pe_input=1000,\n",
        "    pe_target=1000,\n",
        "    rate=dropout_rate)"
      ],
      "execution_count": 12,
      "outputs": []
    },
    {
      "cell_type": "code",
      "metadata": {
        "pycharm": {
          "name": "#%%\n"
        },
        "id": "ifPRFz8p76__"
      },
      "source": [
        "checkpoint_path = \"./checkpoints/train\"\n",
        "\n",
        "ckpt = tf.train.Checkpoint(transformer=transformer,\n",
        "                           optimizer=optimizer)\n",
        "\n",
        "ckpt_manager = tf.train.CheckpointManager(ckpt, checkpoint_path, max_to_keep=5)\n",
        "\n",
        "# if a checkpoint exists, restore the latest checkpoint.\n",
        "if ckpt_manager.latest_checkpoint:\n",
        "    ckpt.restore(ckpt_manager.latest_checkpoint)\n",
        "    print('Latest checkpoint restored!!')"
      ],
      "execution_count": 13,
      "outputs": []
    },
    {
      "cell_type": "code",
      "metadata": {
        "pycharm": {
          "name": "#%%\n"
        },
        "id": "GISgWzEY76__"
      },
      "source": [
        "EPOCHS = 20"
      ],
      "execution_count": 14,
      "outputs": []
    },
    {
      "cell_type": "code",
      "metadata": {
        "pycharm": {
          "name": "#%%\n"
        },
        "id": "RJcmI6Ft76__"
      },
      "source": [
        "# The @tf.function trace-compiles train_step into a TF graph for faster\n",
        "# execution. The function specializes to the precise shape of the argument\n",
        "# tensors. To avoid re-tracing due to the variable sequence lengths or variable\n",
        "# batch sizes (the last batch is smaller), use input_signature to specify\n",
        "# more generic shapes.\n",
        "\n",
        "train_step_signature = [\n",
        "    tf.TensorSpec(shape=(None, None), dtype=tf.int64),\n",
        "    tf.TensorSpec(shape=(None, None), dtype=tf.int64),\n",
        "]\n",
        "\n",
        "\n",
        "@tf.function(input_signature=train_step_signature)\n",
        "def train_step(inp, tar):\n",
        "  tar_inp = tar[:, :-1]\n",
        "  tar_real = tar[:, 1:]\n",
        "\n",
        "  with tf.GradientTape() as tape:\n",
        "    predictions, _ = transformer([inp, tar_inp],\n",
        "                                 training = True)\n",
        "    loss = loss_function(tar_real, predictions)\n",
        "\n",
        "  gradients = tape.gradient(loss, transformer.trainable_variables)\n",
        "  optimizer.apply_gradients(zip(gradients, transformer.trainable_variables))\n",
        "\n",
        "  train_loss(loss)\n",
        "  train_accuracy(accuracy_function(tar_real, predictions))"
      ],
      "execution_count": 15,
      "outputs": []
    },
    {
      "cell_type": "code",
      "metadata": {
        "pycharm": {
          "name": "#%%\n"
        },
        "colab": {
          "base_uri": "https://localhost:8080/"
        },
        "id": "o3JOrSgD77AA",
        "outputId": "702abb04-2492-44d6-e224-b6340d9fb51c"
      },
      "source": [
        "for epoch in range(EPOCHS):\n",
        "  start = time.time()\n",
        "\n",
        "  train_loss.reset_states()\n",
        "  train_accuracy.reset_states()\n",
        "\n",
        "  # inp -> X, tar -> y\n",
        "  for (batch, entry) in enumerate(train_batches):\n",
        "    inp = entry[0]\n",
        "    tar = entry[1]\n",
        "    train_step(inp, tar)\n",
        "\n",
        "    if batch % 50 == 0:\n",
        "      print(f'Epoch {epoch + 1} Batch {batch} Loss {train_loss.result():.4f} Accuracy {train_accuracy.result():.4f}')\n",
        "\n",
        "  if (epoch + 1) % 5 == 0:\n",
        "    ckpt_save_path = ckpt_manager.save()\n",
        "    print(f'Saving checkpoint for epoch {epoch+1} at {ckpt_save_path}')\n",
        "\n",
        "  print(f'Epoch {epoch + 1} Loss {train_loss.result():.4f} Accuracy {train_accuracy.result():.4f}')\n",
        "\n",
        "  print(f'Time taken for 1 epoch: {time.time() - start:.2f} secs\\n')"
      ],
      "execution_count": 16,
      "outputs": [
        {
          "output_type": "stream",
          "text": [
            "Epoch 1 Batch 0 Loss 5.5180 Accuracy 0.0013\n",
            "Epoch 1 Batch 50 Loss 4.9151 Accuracy 0.1147\n",
            "Epoch 1 Batch 100 Loss 4.3882 Accuracy 0.1955\n",
            "Epoch 1 Batch 150 Loss 4.1450 Accuracy 0.2250\n",
            "Epoch 1 Batch 200 Loss 3.9716 Accuracy 0.2506\n",
            "Epoch 1 Loss 3.9183 Accuracy 0.2590\n",
            "Time taken for 1 epoch: 25.85 secs\n",
            "\n",
            "Epoch 2 Batch 0 Loss 3.1759 Accuracy 0.3758\n",
            "Epoch 2 Batch 50 Loss 2.9527 Accuracy 0.3956\n",
            "Epoch 2 Batch 100 Loss 2.8288 Accuracy 0.4084\n",
            "Epoch 2 Batch 150 Loss 2.7376 Accuracy 0.4184\n",
            "Epoch 2 Batch 200 Loss 2.6628 Accuracy 0.4278\n",
            "Epoch 2 Loss 2.6426 Accuracy 0.4304\n",
            "Time taken for 1 epoch: 11.68 secs\n",
            "\n",
            "Epoch 3 Batch 0 Loss 2.3489 Accuracy 0.4713\n",
            "Epoch 3 Batch 50 Loss 2.3198 Accuracy 0.4727\n",
            "Epoch 3 Batch 100 Loss 2.2832 Accuracy 0.4774\n",
            "Epoch 3 Batch 150 Loss 2.2509 Accuracy 0.4819\n",
            "Epoch 3 Batch 200 Loss 2.2198 Accuracy 0.4857\n",
            "Epoch 3 Loss 2.2108 Accuracy 0.4869\n",
            "Time taken for 1 epoch: 11.68 secs\n",
            "\n",
            "Epoch 4 Batch 0 Loss 2.0762 Accuracy 0.5087\n",
            "Epoch 4 Batch 50 Loss 2.0468 Accuracy 0.5104\n",
            "Epoch 4 Batch 100 Loss 2.0216 Accuracy 0.5131\n",
            "Epoch 4 Batch 150 Loss 1.9951 Accuracy 0.5170\n",
            "Epoch 4 Batch 200 Loss 1.9679 Accuracy 0.5218\n",
            "Epoch 4 Loss 1.9596 Accuracy 0.5233\n",
            "Time taken for 1 epoch: 11.34 secs\n",
            "\n",
            "Epoch 5 Batch 0 Loss 1.8677 Accuracy 0.5374\n",
            "Epoch 5 Batch 50 Loss 1.7785 Accuracy 0.5568\n",
            "Epoch 5 Batch 100 Loss 1.7183 Accuracy 0.5699\n",
            "Epoch 5 Batch 150 Loss 1.6121 Accuracy 0.5948\n",
            "Epoch 5 Batch 200 Loss 1.4734 Accuracy 0.6288\n",
            "Saving checkpoint for epoch 5 at ./checkpoints/train/ckpt-1\n",
            "Epoch 5 Loss 1.4302 Accuracy 0.6393\n",
            "Time taken for 1 epoch: 11.76 secs\n",
            "\n",
            "Epoch 6 Batch 0 Loss 0.8120 Accuracy 0.7937\n",
            "Epoch 6 Batch 50 Loss 0.7031 Accuracy 0.8173\n",
            "Epoch 6 Batch 100 Loss 0.6423 Accuracy 0.8311\n",
            "Epoch 6 Batch 150 Loss 0.5863 Accuracy 0.8442\n",
            "Epoch 6 Batch 200 Loss 0.5420 Accuracy 0.8544\n",
            "Epoch 6 Loss 0.5312 Accuracy 0.8569\n",
            "Time taken for 1 epoch: 11.25 secs\n",
            "\n",
            "Epoch 7 Batch 0 Loss 0.3649 Accuracy 0.8921\n",
            "Epoch 7 Batch 50 Loss 0.3290 Accuracy 0.9063\n",
            "Epoch 7 Batch 100 Loss 0.3110 Accuracy 0.9108\n",
            "Epoch 7 Batch 150 Loss 0.3033 Accuracy 0.9122\n",
            "Epoch 7 Batch 200 Loss 0.2897 Accuracy 0.9157\n",
            "Epoch 7 Loss 0.2867 Accuracy 0.9164\n",
            "Time taken for 1 epoch: 11.34 secs\n",
            "\n",
            "Epoch 8 Batch 0 Loss 0.2149 Accuracy 0.9386\n",
            "Epoch 8 Batch 50 Loss 0.2157 Accuracy 0.9348\n",
            "Epoch 8 Batch 100 Loss 0.2091 Accuracy 0.9363\n",
            "Epoch 8 Batch 150 Loss 0.2021 Accuracy 0.9384\n",
            "Epoch 8 Batch 200 Loss 0.1964 Accuracy 0.9401\n",
            "Epoch 8 Loss 0.1956 Accuracy 0.9404\n",
            "Time taken for 1 epoch: 11.85 secs\n",
            "\n",
            "Epoch 9 Batch 0 Loss 0.1824 Accuracy 0.9372\n",
            "Epoch 9 Batch 50 Loss 0.1527 Accuracy 0.9527\n",
            "Epoch 9 Batch 100 Loss 0.1696 Accuracy 0.9482\n",
            "Epoch 9 Batch 150 Loss 0.1613 Accuracy 0.9504\n",
            "Epoch 9 Batch 200 Loss 0.1606 Accuracy 0.9507\n",
            "Epoch 9 Loss 0.1596 Accuracy 0.9510\n",
            "Time taken for 1 epoch: 11.66 secs\n",
            "\n",
            "Epoch 10 Batch 0 Loss 0.1151 Accuracy 0.9616\n",
            "Epoch 10 Batch 50 Loss 0.1417 Accuracy 0.9562\n",
            "Epoch 10 Batch 100 Loss 0.1313 Accuracy 0.9593\n",
            "Epoch 10 Batch 150 Loss 0.1286 Accuracy 0.9603\n",
            "Epoch 10 Batch 200 Loss 0.1277 Accuracy 0.9604\n",
            "Saving checkpoint for epoch 10 at ./checkpoints/train/ckpt-2\n",
            "Epoch 10 Loss 0.1276 Accuracy 0.9604\n",
            "Time taken for 1 epoch: 11.67 secs\n",
            "\n",
            "Epoch 11 Batch 0 Loss 0.1150 Accuracy 0.9638\n",
            "Epoch 11 Batch 50 Loss 0.1061 Accuracy 0.9669\n",
            "Epoch 11 Batch 100 Loss 0.1257 Accuracy 0.9616\n",
            "Epoch 11 Batch 150 Loss 0.1180 Accuracy 0.9639\n",
            "Epoch 11 Batch 200 Loss 0.1160 Accuracy 0.9645\n",
            "Epoch 11 Loss 0.1142 Accuracy 0.9650\n",
            "Time taken for 1 epoch: 11.68 secs\n",
            "\n",
            "Epoch 12 Batch 0 Loss 0.0796 Accuracy 0.9745\n",
            "Epoch 12 Batch 50 Loss 0.0993 Accuracy 0.9701\n",
            "Epoch 12 Batch 100 Loss 0.1038 Accuracy 0.9682\n",
            "Epoch 12 Batch 150 Loss 0.1073 Accuracy 0.9679\n",
            "Epoch 12 Batch 200 Loss 0.1107 Accuracy 0.9670\n",
            "Epoch 12 Loss 0.1076 Accuracy 0.9678\n",
            "Time taken for 1 epoch: 11.78 secs\n",
            "\n",
            "Epoch 13 Batch 0 Loss 0.0696 Accuracy 0.9802\n",
            "Epoch 13 Batch 50 Loss 0.0730 Accuracy 0.9774\n",
            "Epoch 13 Batch 100 Loss 0.0771 Accuracy 0.9763\n",
            "Epoch 13 Batch 150 Loss 0.0900 Accuracy 0.9730\n",
            "Epoch 13 Batch 200 Loss 0.0852 Accuracy 0.9743\n",
            "Epoch 13 Loss 0.0844 Accuracy 0.9744\n",
            "Time taken for 1 epoch: 11.27 secs\n",
            "\n",
            "Epoch 14 Batch 0 Loss 0.0796 Accuracy 0.9739\n",
            "Epoch 14 Batch 50 Loss 0.0828 Accuracy 0.9745\n",
            "Epoch 14 Batch 100 Loss 0.0830 Accuracy 0.9747\n",
            "Epoch 14 Batch 150 Loss 0.0847 Accuracy 0.9744\n",
            "Epoch 14 Batch 200 Loss 0.0839 Accuracy 0.9747\n",
            "Epoch 14 Loss 0.0833 Accuracy 0.9749\n",
            "Time taken for 1 epoch: 11.22 secs\n",
            "\n",
            "Epoch 15 Batch 0 Loss 0.0801 Accuracy 0.9769\n",
            "Epoch 15 Batch 50 Loss 0.0743 Accuracy 0.9776\n",
            "Epoch 15 Batch 100 Loss 0.0811 Accuracy 0.9762\n",
            "Epoch 15 Batch 150 Loss 0.0786 Accuracy 0.9766\n",
            "Epoch 15 Batch 200 Loss 0.0763 Accuracy 0.9770\n",
            "Saving checkpoint for epoch 15 at ./checkpoints/train/ckpt-3\n",
            "Epoch 15 Loss 0.0766 Accuracy 0.9771\n",
            "Time taken for 1 epoch: 11.39 secs\n",
            "\n",
            "Epoch 16 Batch 0 Loss 0.0475 Accuracy 0.9826\n",
            "Epoch 16 Batch 50 Loss 0.0715 Accuracy 0.9783\n",
            "Epoch 16 Batch 100 Loss 0.0720 Accuracy 0.9782\n",
            "Epoch 16 Batch 150 Loss 0.0694 Accuracy 0.9789\n",
            "Epoch 16 Batch 200 Loss 0.0692 Accuracy 0.9791\n",
            "Epoch 16 Loss 0.0690 Accuracy 0.9792\n",
            "Time taken for 1 epoch: 11.50 secs\n",
            "\n",
            "Epoch 17 Batch 0 Loss 0.0917 Accuracy 0.9766\n",
            "Epoch 17 Batch 50 Loss 0.0769 Accuracy 0.9775\n",
            "Epoch 17 Batch 100 Loss 0.0708 Accuracy 0.9793\n",
            "Epoch 17 Batch 150 Loss 0.0691 Accuracy 0.9797\n",
            "Epoch 17 Batch 200 Loss 0.0681 Accuracy 0.9799\n",
            "Epoch 17 Loss 0.0675 Accuracy 0.9801\n",
            "Time taken for 1 epoch: 11.65 secs\n",
            "\n",
            "Epoch 18 Batch 0 Loss 0.0447 Accuracy 0.9848\n",
            "Epoch 18 Batch 50 Loss 0.0621 Accuracy 0.9817\n",
            "Epoch 18 Batch 100 Loss 0.0613 Accuracy 0.9818\n",
            "Epoch 18 Batch 150 Loss 0.0608 Accuracy 0.9820\n",
            "Epoch 18 Batch 200 Loss 0.0609 Accuracy 0.9819\n",
            "Epoch 18 Loss 0.0615 Accuracy 0.9818\n",
            "Time taken for 1 epoch: 11.48 secs\n",
            "\n",
            "Epoch 19 Batch 0 Loss 0.0493 Accuracy 0.9833\n",
            "Epoch 19 Batch 50 Loss 0.0589 Accuracy 0.9821\n",
            "Epoch 19 Batch 100 Loss 0.0602 Accuracy 0.9820\n",
            "Epoch 19 Batch 150 Loss 0.0588 Accuracy 0.9825\n",
            "Epoch 19 Batch 200 Loss 0.0620 Accuracy 0.9818\n",
            "Epoch 19 Loss 0.0619 Accuracy 0.9818\n",
            "Time taken for 1 epoch: 11.18 secs\n",
            "\n",
            "Epoch 20 Batch 0 Loss 0.0442 Accuracy 0.9887\n",
            "Epoch 20 Batch 50 Loss 0.0482 Accuracy 0.9863\n",
            "Epoch 20 Batch 100 Loss 0.0534 Accuracy 0.9849\n",
            "Epoch 20 Batch 150 Loss 0.0521 Accuracy 0.9850\n",
            "Epoch 20 Batch 200 Loss 0.0501 Accuracy 0.9855\n",
            "Saving checkpoint for epoch 20 at ./checkpoints/train/ckpt-4\n",
            "Epoch 20 Loss 0.0495 Accuracy 0.9856\n",
            "Time taken for 1 epoch: 11.48 secs\n",
            "\n"
          ],
          "name": "stdout"
        }
      ]
    },
    {
      "cell_type": "markdown",
      "metadata": {
        "collapsed": false,
        "pycharm": {
          "name": "#%% md\n"
        },
        "id": "xi7q3T6Y77AA"
      },
      "source": [
        "## Evaluate"
      ]
    },
    {
      "cell_type": "code",
      "metadata": {
        "pycharm": {
          "name": "#%%\n"
        },
        "id": "XUKDqr7c77AB"
      },
      "source": [
        "def evaluate(line, max_length=100):\n",
        "  line = tf.convert_to_tensor([line])\n",
        "  line = tokenizer.tokenize(line).to_tensor()\n",
        "\n",
        "  encoder_input = line\n",
        "\n",
        "  start, end = tokenizer.tokenize([''])[0]\n",
        "  output = tf.convert_to_tensor([start])\n",
        "  output = tf.expand_dims(output, 0)\n",
        "\n",
        "  for i in range(max_length):\n",
        "    enc_padding_mask, combined_mask, dec_padding_mask = create_masks(\n",
        "        encoder_input, output)\n",
        "\n",
        "    # predictions.shape == (batch_size, seq_len, vocab_size)\n",
        "    predictions, attention_weights = transformer.call((encoder_input, output),\n",
        "                                                 False)\n",
        "\n",
        "    # select the last word from the seq_len dimension\n",
        "    predictions = predictions[:, -1:, :]  # (batch_size, 1, vocab_size)\n",
        "\n",
        "    predicted_id = tf.argmax(predictions, axis=-1)\n",
        "\n",
        "    # concatentate the predicted_id to the output which is given to the decoder\n",
        "    # as its input.\n",
        "    output = tf.concat([output, predicted_id], axis=-1)\n",
        "\n",
        "    # return the result if the predicted_id is equal to the end token\n",
        "    if predicted_id == end:\n",
        "      break\n",
        "\n",
        "  # output.shape (1, tokens)\n",
        "  text = tokenizer.detokenize(output)[0]  # shape: ()\n",
        "\n",
        "  tokens = tokenizer.lookup(output)[0]\n",
        "\n",
        "  return text, tokens, attention_weights"
      ],
      "execution_count": 17,
      "outputs": []
    },
    {
      "cell_type": "code",
      "metadata": {
        "id": "mwc4AifRpyDj"
      },
      "source": [
        "def print_prediction(x, true=None, add_spaces=True):\n",
        "  if true is not None:\n",
        "    true = re.sub(' ', '', true)\n",
        "    true = re.sub('S', ' ', true)\n",
        "    true = re.sub('C', '$', true)\n",
        "    true = re.sub('Y', '|', true)\n",
        "  else:\n",
        "    true = 'Not provided\\n'\n",
        "\n",
        "  if add_spaces:\n",
        "    x = re.sub(' ', ' S ', x)\n",
        "  \n",
        "  predicted, _, _ = evaluate(x)\n",
        "  x = re.sub('\\n', '', x)\n",
        "  x = re.sub(' S ', ' ', x)\n",
        "  predicted = predicted.numpy().decode('utf-8')\n",
        "  print(f'Original:\\t{x}')\n",
        "  print(f'Predicted:\\t{predicted}')\n",
        "  print(f'True:\\t\\t{true}')"
      ],
      "execution_count": 18,
      "outputs": []
    },
    {
      "cell_type": "code",
      "metadata": {
        "pycharm": {
          "name": "#%%\n"
        },
        "colab": {
          "base_uri": "https://localhost:8080/"
        },
        "id": "UGm8pT4B77AC",
        "outputId": "b9e7483b-c469-4a3d-a9c0-bf203f333065"
      },
      "source": [
        "test = dataset['test']\n",
        "for batch, (x, y) in enumerate(test.batch(1)):\n",
        "  x = x.numpy()[0].decode('utf-8')\n",
        "  y = y.numpy()[0].decode('utf-8')\n",
        "  print_prediction(x, y, add_spaces=False)\n",
        "  if batch >=9 :\n",
        "    break\n"
      ],
      "execution_count": 19,
      "outputs": [
        {
          "output_type": "stream",
          "text": [
            "Original:\tin voce assai più che la nostra viva\n",
            "Predicted:\t|in |vo|ce as|sai |più $che |la |no|stra |vi|va\n",
            "True:\t\t|in |vo|ce as|sai |più |che $la |no|stra |vi|va\n",
            "\n",
            "Original:\tché per etterna legge è stabilito\n",
            "Predicted:\t|ché |per |et|ter|na |leg|ge è $sta|bi|li|to\n",
            "True:\t\t|ché |per |et|ter|na |leg|ge è $sta|bi|li|to\n",
            "\n",
            "Original:\tche son quinc’ entro se l’ unghia ti basti\n",
            "Predicted:\t|che |son |quin|c’ en|tro $se |l’ un|ghia |ti |ba|sti\n",
            "True:\t\t|che |son |quin|c’ en|tro $se |l’ un|ghia |ti |ba|sti\n",
            "\n",
            "Original:\tsaver fu messo che se ’l vero è vero\n",
            "Predicted:\t|sa|ver |fu |mes|so |che $se ’l |ve|ro è |ve|ro\n",
            "True:\t\t|sa|ver |fu |mes|so |che $se ’l |ve|ro è |ve|ro\n",
            "\n",
            "Original:\te sempre di mirar faceasi accesa\n",
            "Predicted:\t|e |sem|pre |di |mi|rar $fa|cea|si ac|ce|sa\n",
            "True:\t\t|e |sem|pre |di |mi|rar $fa|cea|si ac|ce|sa\n",
            "\n",
            "Original:\te bëatrice forse maggior cura\n",
            "Predicted:\t|e |bë|a|tri|ce |for|se $mag|gior |cu|ra\n",
            "True:\t\t|e |bë|a|tri|ce |for|se $mag|gior |cu|ra\n",
            "\n",
            "Original:\tonde cessar le sue opere biece\n",
            "Predicted:\t|on|de |ces|sar $le |sue o|pe|re |bie|ce\n",
            "True:\t\t|on|de |ces|sar |le |sue $o|pe|re |bie|ce\n",
            "\n",
            "WARNING:tensorflow:5 out of the last 8 calls to <function Tokenizer.detokenize at 0x7f7f098efb00> triggered tf.function retracing. Tracing is expensive and the excessive number of tracings could be due to (1) creating @tf.function repeatedly in a loop, (2) passing tensors with different shapes, (3) passing Python objects instead of tensors. For (1), please define your @tf.function outside of the loop. For (2), @tf.function has experimental_relax_shapes=True option that relaxes argument shapes that can avoid unnecessary retracing. For (3), please refer to https://www.tensorflow.org/guide/function#controlling_retracing and https://www.tensorflow.org/api_docs/python/tf/function for  more details.\n",
            "WARNING:tensorflow:5 out of the last 8 calls to <function Tokenizer.lookup at 0x7f7f097e0cb0> triggered tf.function retracing. Tracing is expensive and the excessive number of tracings could be due to (1) creating @tf.function repeatedly in a loop, (2) passing tensors with different shapes, (3) passing Python objects instead of tensors. For (1), please define your @tf.function outside of the loop. For (2), @tf.function has experimental_relax_shapes=True option that relaxes argument shapes that can avoid unnecessary retracing. For (3), please refer to https://www.tensorflow.org/guide/function#controlling_retracing and https://www.tensorflow.org/api_docs/python/tf/function for  more details.\n",
            "Original:\tquando noi fummo là dov’ el vaneggia\n",
            "Predicted:\t|quan|do |noi |fum|mo |là $do|v’ el |va|neg|gia\n",
            "True:\t\t|quan|do |noi |fum|mo |là $do|v’ el |va|neg|gia\n",
            "\n",
            "Original:\ted el mi disse quel fu ’l duro camo\n",
            "Predicted:\t|ed |el |mi |dis|se |quel $fu ’l |du|ro |ca|mo\n",
            "True:\t\t|ed |el |mi |dis|se |quel $fu ’l |du|ro |ca|mo\n",
            "\n",
            "WARNING:tensorflow:6 out of the last 10 calls to <function Tokenizer.detokenize at 0x7f7f098efb00> triggered tf.function retracing. Tracing is expensive and the excessive number of tracings could be due to (1) creating @tf.function repeatedly in a loop, (2) passing tensors with different shapes, (3) passing Python objects instead of tensors. For (1), please define your @tf.function outside of the loop. For (2), @tf.function has experimental_relax_shapes=True option that relaxes argument shapes that can avoid unnecessary retracing. For (3), please refer to https://www.tensorflow.org/guide/function#controlling_retracing and https://www.tensorflow.org/api_docs/python/tf/function for  more details.\n",
            "WARNING:tensorflow:6 out of the last 10 calls to <function Tokenizer.lookup at 0x7f7f097e0cb0> triggered tf.function retracing. Tracing is expensive and the excessive number of tracings could be due to (1) creating @tf.function repeatedly in a loop, (2) passing tensors with different shapes, (3) passing Python objects instead of tensors. For (1), please define your @tf.function outside of the loop. For (2), @tf.function has experimental_relax_shapes=True option that relaxes argument shapes that can avoid unnecessary retracing. For (3), please refer to https://www.tensorflow.org/guide/function#controlling_retracing and https://www.tensorflow.org/api_docs/python/tf/function for  more details.\n",
            "Original:\tnoi volgendo ivi le nostre persone\n",
            "Predicted:\t|noi |vol|gen|do i|vi $le |no|stre |per|so|ne\n",
            "True:\t\t|noi |vol|gen|do i|vi $le |no|stre |per|so|ne\n",
            "\n"
          ],
          "name": "stdout"
        }
      ]
    },
    {
      "cell_type": "code",
      "metadata": {
        "colab": {
          "base_uri": "https://localhost:8080/"
        },
        "id": "StXJnq0Ps_sQ",
        "outputId": "e61c4008-3f2d-4d0d-da0f-6eae911e97bd"
      },
      "source": [
        "infinito = ['sempre caro mi fu quest’ermo colle',\n",
        "            'e questa siepe che da tanta parte',\n",
        "            'dell’ultimo orizzonte il guardo esclude',\n",
        "            'ma sedendo e mirando interminati',\n",
        "            'spazi di là da quella e sovrumani',\n",
        "            'silenzi e profondissima quïete',\n",
        "            'io nel pensier mi fingo ove per poco',\n",
        "            'il cor non si spaura e come il vento',\n",
        "            'odo stormir tra queste piante io quello',\n",
        "            'infinito silenzio a questa voce',\n",
        "            'vo comparando e mi sovvien l’eterno',\n",
        "            'e le morte stagioni e la presente',\n",
        "            'e viva e il suon di lei così tra questa',\n",
        "            'immensità s’annega il pensier mio',\n",
        "            'e il naufragar m’è dolce in questo mare']\n",
        "\n",
        "for line in infinito:\n",
        "  print_prediction(line)\n"
      ],
      "execution_count": 20,
      "outputs": [
        {
          "output_type": "stream",
          "text": [
            "Original:\tsempre caro mi fu quest’ermo colle\n",
            "Predicted:\t|sem|pre |ca|ro |mi |fu $que|st’|mor |col|le\n",
            "True:\t\tNot provided\n",
            "\n",
            "Original:\te questa siepe che da tanta parte\n",
            "Predicted:\t|e |que|sta |sie|pe |che $da |tan|ta |par|te\n",
            "True:\t\tNot provided\n",
            "\n",
            "Original:\tdell’ultimo orizzonte il guardo esclude\n",
            "Predicted:\t|del|l’ ul|to o|riz|zon|te il $guar|do e|scu|de\n",
            "True:\t\tNot provided\n",
            "\n",
            "Original:\tma sedendo e mirando interminati\n",
            "Predicted:\t|ma |se|den|do e $mi|ran|do in|ter|mi|na|ti\n",
            "True:\t\tNot provided\n",
            "\n",
            "Original:\tspazi di là da quella e sovrumani\n",
            "Predicted:\t|spa|zi |di |là |da |quel|la e $sov|ru|ma|ni\n",
            "True:\t\tNot provided\n",
            "\n",
            "Original:\tsilenzi e profondissima quïete\n",
            "Predicted:\t|si|len|zi e |pro|fon|dis|si|ma $quï|e|te\n",
            "True:\t\tNot provided\n",
            "\n",
            "Original:\tio nel pensier mi fingo ove per poco\n",
            "Predicted:\t|io |nel |pen|sier $mi |fin|go o|ve |per |po|co\n",
            "True:\t\tNot provided\n",
            "\n",
            "Original:\til cor non si spaura e come il vento\n",
            "Predicted:\t|il |cor |non |si |spau|ra e $co|me il |ven|to\n",
            "True:\t\tNot provided\n",
            "\n",
            "Original:\todo stormir tra queste piante io quello\n",
            "Predicted:\t|o|do |stor|mir |tra |que|ste $pian|te io |quel|lo\n",
            "True:\t\tNot provided\n",
            "\n",
            "Original:\tinfinito silenzio a questa voce\n",
            "Predicted:\t|in|fi|ni|to |si|len|zio a $que|sta |vo|ce\n",
            "True:\t\tNot provided\n",
            "\n",
            "Original:\tvo comparando e mi sovvien l’eterno\n",
            "Predicted:\t|vo |com|par|an|do e $mi |sov|vien |l’ e|ter|no\n",
            "True:\t\tNot provided\n",
            "\n",
            "Original:\te le morte stagioni e la presente\n",
            "Predicted:\t|e |le |mor|te |sta|gio|ni e $la |pre|sen|te\n",
            "True:\t\tNot provided\n",
            "\n",
            "Original:\te viva e il suon di lei così tra questa\n",
            "Predicted:\t|e |vi|va e |il |suon |di |lei $co|sì |tra |que|sta\n",
            "True:\t\tNot provided\n",
            "\n",
            "Original:\timmensità s’annega il pensier mio\n",
            "Predicted:\t|im|men|si|tà |s’a|ne|ga il $pen|sier |mio\n",
            "True:\t\tNot provided\n",
            "\n",
            "Original:\te il naufragar m’è dolce in questo mare\n",
            "Predicted:\t|e il |na|u|fra|gar |m’ èl|ce in $que|sto |ma|re\n",
            "True:\t\tNot provided\n",
            "\n"
          ],
          "name": "stdout"
        }
      ]
    },
    {
      "cell_type": "code",
      "metadata": {
        "colab": {
          "base_uri": "https://localhost:8080/"
        },
        "id": "Ruhx2YXxxq16",
        "outputId": "497e745a-fb07-46e4-bb04-4c107cbb5fd3"
      },
      "source": [
        "cinque_maggio = ['ei fu siccome immobile',\n",
        "                'dato il mortal sospiro',\n",
        "                'stette la spoglia immemore',\n",
        "                'orba di tanto spiro',\n",
        "                'così percossa attònita',\n",
        "                'la terra al nunzio sta',\n",
        "                'muta pensando all’ultima',\n",
        "                'ora dell’uom fatale',\n",
        "                'né sa quando una simile',\n",
        "                'orma di piè mortale',\n",
        "                'la sua cruenta polvere'\n",
        "                'a calpestar verrà']\n",
        "\n",
        "for line in cinque_maggio:\n",
        "  print_prediction(line)"
      ],
      "execution_count": 21,
      "outputs": [
        {
          "output_type": "stream",
          "text": [
            "Original:\tei fu siccome immobile\n",
            "Predicted:\t|ei |fu |sic|co|me im|mo|bi|bi|le\n",
            "True:\t\tNot provided\n",
            "\n",
            "Original:\tdato il mortal sospiro\n",
            "Predicted:\t|da|to il |mor|tal $so|spi|ra|ro\n",
            "True:\t\tNot provided\n",
            "\n",
            "Original:\tstette la spoglia immemore\n",
            "Predicted:\t|stet|te |la |spo|glia $im|me|mo|re\n",
            "True:\t\tNot provided\n",
            "\n",
            "Original:\torba di tanto spiro\n",
            "Predicted:\t|or|ba |di |tan|to $spi|ro\n",
            "True:\t\tNot provided\n",
            "\n",
            "Original:\tcosì percossa attònita\n",
            "Predicted:\t|co|sì |per|cos|sa $at|tò|ni|ta\n",
            "True:\t\tNot provided\n",
            "\n",
            "Original:\tla terra al nunzio sta\n",
            "Predicted:\t|la |ter|ra al |nun|zio |sta\n",
            "True:\t\tNot provided\n",
            "\n",
            "Original:\tmuta pensando all’ultima\n",
            "Predicted:\t|mu|ta |pen|san|do al|l’|l’|ti|ma\n",
            "True:\t\tNot provided\n",
            "\n",
            "Original:\tora dell’uom fatale\n",
            "Predicted:\t|o|ra |del|l’om $fa|ta|le|le\n",
            "True:\t\tNot provided\n",
            "\n",
            "Original:\tné sa quando una simile\n",
            "Predicted:\t|né |sa |quan|do u|na $si|mi|le|le\n",
            "True:\t\tNot provided\n",
            "\n",
            "Original:\torma di piè mortale\n",
            "Predicted:\t|or|ma |di |piè $mor|tal|la|le\n",
            "True:\t\tNot provided\n",
            "\n",
            "Original:\tla sua cruenta polverea calpestar verrà\n",
            "Predicted:\t|la |sua |cruen|ta |pol|ve|rea $cal|pe|star |verà\n",
            "True:\t\tNot provided\n",
            "\n"
          ],
          "name": "stdout"
        }
      ]
    },
    {
      "cell_type": "code",
      "metadata": {
        "colab": {
          "base_uri": "https://localhost:8080/"
        },
        "id": "j-Fo-ewhwzef",
        "outputId": "9e0fdd38-e57a-4ae8-bf7e-0c80e09c6402"
      },
      "source": [
        "mattina = ['m’illumino', 'd’immenso']\n",
        "\n",
        "for line in mattina:\n",
        "  print_prediction(line)"
      ],
      "execution_count": 22,
      "outputs": [
        {
          "output_type": "stream",
          "text": [
            "Original:\tm’illumino\n",
            "Predicted:\t|m’|cu|mi|no|no\n",
            "True:\t\tNot provided\n",
            "\n",
            "Original:\td’immenso\n",
            "Predicted:\t|d’m|men|men|so\n",
            "True:\t\tNot provided\n",
            "\n"
          ],
          "name": "stdout"
        }
      ]
    },
    {
      "cell_type": "markdown",
      "metadata": {
        "id": "xswo1w_oogSr"
      },
      "source": [
        ""
      ]
    },
    {
      "cell_type": "code",
      "metadata": {
        "colab": {
          "base_uri": "https://localhost:8080/"
        },
        "id": "qjyWYmN4oexN",
        "outputId": "355aa9f0-04ba-4c96-c120-c71c2551913f"
      },
      "source": [
        " elegia = ['hic ego dux milesque bonus vos signa tubaeque',\n",
        "          'ite procul cupidis vulnera ferte viris',\n",
        "          'ferte et opes ego composito securus acervo',\n",
        "          'dites despiciam despiciamque famem']\n",
        "\n",
        "for line in elegia:\n",
        "  print_prediction(line)"
      ],
      "execution_count": 23,
      "outputs": [
        {
          "output_type": "stream",
          "text": [
            "Original:\thic ego dux milesque bonus vos signa tubaeque\n",
            "Predicted:\t|hic |e|go |du |mi|le|sque $bon|su |vo|sga |tua|be\n",
            "True:\t\tNot provided\n",
            "\n",
            "Original:\tite procul cupidis vulnera ferte viris\n",
            "Predicted:\t|i|te |pro|cul |cup|dis $vul|ra |fer|te |vis|ri\n",
            "True:\t\tNot provided\n",
            "\n",
            "Original:\tferte et opes ego composito securus acervo\n",
            "Predicted:\t|fer|te et |o|pes|go em|po|pi|sto $se|crus|se ac|de\n",
            "True:\t\tNot provided\n",
            "\n",
            "Original:\tdites despiciam despiciamque famem\n",
            "Predicted:\t|di|tes |de|spi|ciam $de|spic|ciam|que |fa|me\n",
            "True:\t\tNot provided\n",
            "\n"
          ],
          "name": "stdout"
        }
      ]
    },
    {
      "cell_type": "code",
      "metadata": {
        "colab": {
          "base_uri": "https://localhost:8080/"
        },
        "id": "gFh6vdfN3iKs",
        "outputId": "a183030d-8fdd-405b-ae71-ae3c0fb4a6d4"
      },
      "source": [
        "print_prediction('a')"
      ],
      "execution_count": 24,
      "outputs": [
        {
          "output_type": "stream",
          "text": [
            "Original:\ta\n",
            "Predicted:\t|a|ï|o\n",
            "True:\t\tNot provided\n",
            "\n"
          ],
          "name": "stdout"
        }
      ]
    }
  ]
}