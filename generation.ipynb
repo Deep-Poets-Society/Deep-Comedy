{
  "nbformat": 4,
  "nbformat_minor": 0,
  "metadata": {
    "kernelspec": {
      "display_name": "Python 3",
      "language": "python",
      "name": "python3"
    },
    "language_info": {
      "codemirror_mode": {
        "name": "ipython",
        "version": 2
      },
      "file_extension": ".py",
      "mimetype": "text/x-python",
      "name": "python",
      "nbconvert_exporter": "python",
      "pygments_lexer": "ipython2",
      "version": "2.7.6"
    },
    "colab": {
      "name": "generation.ipynb",
      "provenance": [],
      "machine_shape": "hm",
      "include_colab_link": true
    },
    "accelerator": "GPU"
  },
  "cells": [
    {
      "cell_type": "markdown",
      "metadata": {
        "id": "view-in-github",
        "colab_type": "text"
      },
      "source": [
        "<a href=\"https://colab.research.google.com/github/Deep-Poets-Society/Deep-Comedy/blob/beam_search/generation.ipynb\" target=\"_parent\"><img src=\"https://colab.research.google.com/assets/colab-badge.svg\" alt=\"Open In Colab\"/></a>"
      ]
    },
    {
      "cell_type": "code",
      "metadata": {
        "collapsed": true,
        "id": "meOETGziWXvK",
        "colab": {
          "base_uri": "https://localhost:8080/"
        },
        "outputId": "df09c7cb-8246-43d6-cb8d-fda72016f9a3"
      },
      "source": [
        "# Google Colab Setup\n",
        "\n",
        "import sys\n",
        "import os\n",
        "\n",
        "%cd /content\n",
        "!rm -rf Deep-Comedy &> /dev/null\n",
        "!git clone https://github.com/Deep-Poets-Society/Deep-Comedy &> /dev/null\n",
        "%cd Deep-Comedy\n",
        "\n",
        "sys.path.append(os.getcwd())\n",
        "\n",
        "!pip install tensorflow &> /dev/null\n",
        "!pip install tensorflow_text &> /dev/null"
      ],
      "execution_count": 1,
      "outputs": [
        {
          "output_type": "stream",
          "text": [
            "/content\n",
            "/content/Deep-Comedy\n"
          ],
          "name": "stdout"
        }
      ]
    },
    {
      "cell_type": "code",
      "metadata": {
        "pycharm": {
          "name": "#%%\n"
        },
        "id": "_obGbyOAWXvN"
      },
      "source": [
        "from tokenizer import Tokenizer\n",
        "import tensorflow as tf\n",
        "import time\n",
        "import numpy as np\n",
        "import re\n",
        "from matplotlib import pyplot as plt\n",
        "from utils import load_dataset_for_gen, positional_encoding, loss_function, accuracy_function, plot_accuracy\n",
        "from models import Transformer, create_masks\n",
        "from schedules import CustomSchedule\n",
        "from preprocessing import CESURA, SPACE, SYL, NEW_LINE\n",
        "import random"
      ],
      "execution_count": 2,
      "outputs": []
    },
    {
      "cell_type": "code",
      "metadata": {
        "pycharm": {
          "name": "#%%\n"
        },
        "id": "iISOBuwsWXvO"
      },
      "source": [
        "dataset = load_dataset_for_gen()\n",
        "train = dataset['train']\n",
        "val = dataset['val']"
      ],
      "execution_count": 3,
      "outputs": []
    },
    {
      "cell_type": "code",
      "metadata": {
        "id": "F7hZPa0rWsFK"
      },
      "source": [
        "tokenizer = Tokenizer(['[START]', '[END]', f'{SPACE}', f'{NEW_LINE}'], 'res/vocab_gen.txt')"
      ],
      "execution_count": 4,
      "outputs": []
    },
    {
      "cell_type": "code",
      "metadata": {
        "id": "6oyo9jVqXEBP"
      },
      "source": [
        "BUFFER_SIZE = 20000\n",
        "BATCH_SIZE = 64"
      ],
      "execution_count": 5,
      "outputs": []
    },
    {
      "cell_type": "code",
      "metadata": {
        "id": "yjuN7z5UXPyf"
      },
      "source": [
        "def tokenize_pairs(X, y):\n",
        "    X = tokenizer.tokenize(X)\n",
        "    # Convert from ragged to dense, padding with zeros.\n",
        "    X = X.to_tensor()\n",
        "\n",
        "    y = tokenizer.tokenize(y)\n",
        "    # Convert from ragged to dense, padding with zeros.\n",
        "    y = y.to_tensor()\n",
        "\n",
        "    return X, y\n",
        "\n",
        "\n",
        "def make_batches(ds):\n",
        "    return (ds\n",
        "            .cache()\n",
        "            .shuffle(BUFFER_SIZE)\n",
        "            .batch(BATCH_SIZE)\n",
        "            .map(tokenize_pairs, num_parallel_calls=tf.data.AUTOTUNE)\n",
        "            .prefetch(tf.data.AUTOTUNE)\n",
        "            )"
      ],
      "execution_count": 6,
      "outputs": []
    },
    {
      "cell_type": "code",
      "metadata": {
        "id": "mOXlzclsXT5Q"
      },
      "source": [
        "train_batches = make_batches(train)\n",
        "val_batches = make_batches(val)"
      ],
      "execution_count": 7,
      "outputs": []
    },
    {
      "cell_type": "markdown",
      "metadata": {
        "id": "q3ok0NJuXjQH"
      },
      "source": [
        "Hyperparameters"
      ]
    },
    {
      "cell_type": "code",
      "metadata": {
        "id": "aBqbFhDxXmeS"
      },
      "source": [
        "num_layers = 4\n",
        "d_model = 256\n",
        "dff = 1024\n",
        "num_heads = 8\n",
        "dropout_rate = 0.1"
      ],
      "execution_count": 8,
      "outputs": []
    },
    {
      "cell_type": "markdown",
      "metadata": {
        "id": "5uDDG_jfXvWQ"
      },
      "source": [
        "Set Adam Optimizer"
      ]
    },
    {
      "cell_type": "code",
      "metadata": {
        "id": "3MEUXiqhXt6V"
      },
      "source": [
        "learning_rate = CustomSchedule(d_model)\n",
        "\n",
        "optimizer = tf.keras.optimizers.Adam(learning_rate, beta_1=0.9, beta_2=0.98,\n",
        "                                     epsilon=1e-9)"
      ],
      "execution_count": 9,
      "outputs": []
    },
    {
      "cell_type": "markdown",
      "metadata": {
        "id": "aY-LaGtYYBJW"
      },
      "source": [
        "Loss and metrics"
      ]
    },
    {
      "cell_type": "code",
      "metadata": {
        "id": "D4HiTjb-YFT3"
      },
      "source": [
        "train_loss = tf.keras.metrics.Mean(name='train_loss')\n",
        "train_accuracy = tf.keras.metrics.Mean(name='train_accuracy')\n",
        "\n",
        "val_loss = tf.keras.metrics.Mean(name='val_loss')\n",
        "val_accuracy = tf.keras.metrics.Mean(name='val_accuracy')"
      ],
      "execution_count": 10,
      "outputs": []
    },
    {
      "cell_type": "markdown",
      "metadata": {
        "id": "Rq0hnim-YLqk"
      },
      "source": [
        "Training and checkpoint\n"
      ]
    },
    {
      "cell_type": "code",
      "metadata": {
        "id": "0lwoNOLtYJXp"
      },
      "source": [
        "transformer = Transformer(\n",
        "    num_layers=num_layers,\n",
        "    d_model=d_model,\n",
        "    num_heads=num_heads,\n",
        "    dff=dff,\n",
        "    input_vocab_size=tokenizer.get_vocab_size().numpy(),\n",
        "    target_vocab_size=tokenizer.get_vocab_size().numpy(),\n",
        "    pe_input=1000,\n",
        "    pe_target=1000,\n",
        "    rate=dropout_rate)"
      ],
      "execution_count": 11,
      "outputs": []
    },
    {
      "cell_type": "code",
      "metadata": {
        "id": "Gqlj7C65YVHH",
        "outputId": "861a17d7-e580-4fbd-e869-3493999b9701",
        "colab": {
          "base_uri": "https://localhost:8080/"
        }
      },
      "source": [
        "checkpoint_path = \"./checkpoints-gen/train\"\n",
        "\n",
        "ckpt = tf.train.Checkpoint(transformer=transformer,\n",
        "                           optimizer=optimizer)\n",
        "\n",
        "ckpt_manager = tf.train.CheckpointManager(ckpt, checkpoint_path, max_to_keep=5)\n",
        "\n",
        "# if a checkpoint exists, restore the latest checkpoint.\n",
        "if ckpt_manager.latest_checkpoint:\n",
        "    ckpt.restore(ckpt_manager.latest_checkpoint)\n",
        "    print('Latest checkpoint restored!!')"
      ],
      "execution_count": 84,
      "outputs": [
        {
          "output_type": "stream",
          "text": [
            "Latest checkpoint restored!!\n"
          ],
          "name": "stdout"
        }
      ]
    },
    {
      "cell_type": "code",
      "metadata": {
        "id": "d_6U6RisYbrK"
      },
      "source": [
        "EPOCHS = 100"
      ],
      "execution_count": 83,
      "outputs": []
    },
    {
      "cell_type": "code",
      "metadata": {
        "id": "it12KKOdYe-w"
      },
      "source": [
        "# The @tf.function trace-compiles train_step into a TF graph for faster\n",
        "# execution. The function specializes to the precise shape of the argument\n",
        "# tensors. To avoid re-tracing due to the variable sequence lengths or variable\n",
        "# batch sizes (the last batch is smaller), use input_signature to specify\n",
        "# more generic shapes.\n",
        "\n",
        "train_step_signature = [\n",
        "    tf.TensorSpec(shape=(None, None), dtype=tf.int64),\n",
        "    tf.TensorSpec(shape=(None, None), dtype=tf.int64),\n",
        "]\n",
        "\n",
        "\n",
        "@tf.function(input_signature=train_step_signature)\n",
        "def train_step(inp, tar):\n",
        "  tar_inp = tar[:, :-1]\n",
        "  tar_real = tar[:, 1:]\n",
        "\n",
        "  with tf.GradientTape() as tape:\n",
        "    predictions, _ = transformer([inp, tar_inp],\n",
        "                                 training = True)\n",
        "    loss = loss_function(tar_real, predictions)\n",
        "\n",
        "  gradients = tape.gradient(loss, transformer.trainable_variables)\n",
        "  optimizer.apply_gradients(zip(gradients, transformer.trainable_variables))\n",
        "\n",
        "  train_loss(loss)\n",
        "  train_accuracy(accuracy_function(tar_real, predictions))"
      ],
      "execution_count": 79,
      "outputs": []
    },
    {
      "cell_type": "code",
      "metadata": {
        "id": "0GSoUFswYggU"
      },
      "source": [
        "train_losses = []\n",
        "train_accuracies = []\n",
        "val_losses = []\n",
        "val_accuracies = []"
      ],
      "execution_count": 80,
      "outputs": []
    },
    {
      "cell_type": "code",
      "metadata": {
        "id": "ihPztlN2YjSj",
        "colab": {
          "base_uri": "https://localhost:8080/"
        },
        "outputId": "fb318517-6712-45fe-88e3-d4a89bf59fb6"
      },
      "source": [
        "for epoch in range(EPOCHS):\n",
        "  start = time.time()\n",
        "\n",
        "  train_loss.reset_states()\n",
        "  train_accuracy.reset_states()\n",
        "  val_loss.reset_states()\n",
        "  val_accuracy.reset_states()\n",
        "\n",
        "  # inp -> X, tar -> y\n",
        "  for (batch, entry) in enumerate(train_batches):\n",
        "    inp = entry[0]\n",
        "    tar = entry[1]\n",
        "    train_step(inp, tar)\n",
        "\n",
        "    #if batch % 50 == 0:\n",
        "    #  print(f'Epoch {epoch + 1} Batch {batch} Loss {train_loss.result():.4f} Accuracy {train_accuracy.result():.4f}')\n",
        "\n",
        "  if (epoch + 1) % 5 == 0:\n",
        "    ckpt_save_path = ckpt_manager.save()\n",
        "    print(f'Saving checkpoint for epoch {epoch+1} at {ckpt_save_path}')\n",
        "  \n",
        "  for val_entry in val_batches:\n",
        "    val_inp = val_entry[0]\n",
        "    val_tar = val_entry[1]\n",
        "    val_tar_inp = val_tar[:, :-1]\n",
        "    val_tar_real = val_tar[:, 1:]\n",
        "    with tf.GradientTape() as tape:\n",
        "      predictions, _ = transformer([val_inp, val_tar_inp],\n",
        "                                 training = False)\n",
        "    loss = loss_function(val_tar_real, predictions)\n",
        "    val_loss(loss)\n",
        "    val_accuracy(accuracy_function(val_tar_real, predictions))\n",
        "  \n",
        "  print(f'Epoch {epoch + 1} Train loss {train_loss.result():.4f} Train accuracy {train_accuracy.result():.4f}')\n",
        "  print(f'Epoch {epoch + 1} Validation loss {val_loss.result():.4f} Validation accuracy {val_accuracy.result():.4f}')\n",
        "\n",
        "  train_losses.append(train_loss.result().numpy())\n",
        "  train_accuracies.append(train_accuracy.result().numpy())\n",
        "  val_losses.append(val_loss.result().numpy())\n",
        "  val_accuracies.append(val_accuracy.result().numpy())\n",
        "\n",
        "  print(f'Time taken for 1 epoch: {time.time() - start:.2f} secs\\n')"
      ],
      "execution_count": 85,
      "outputs": [
        {
          "output_type": "stream",
          "text": [
            "Epoch 1 Train loss 0.6732 Train accuracy 0.7995\n",
            "Epoch 1 Validation loss 1.9788 Validation accuracy 0.6072\n",
            "Time taken for 1 epoch: 15.04 secs\n",
            "\n",
            "Epoch 2 Train loss 0.6538 Train accuracy 0.8044\n",
            "Epoch 2 Validation loss 2.0340 Validation accuracy 0.6049\n",
            "Time taken for 1 epoch: 15.09 secs\n",
            "\n",
            "Epoch 3 Train loss 0.6358 Train accuracy 0.8089\n",
            "Epoch 3 Validation loss 2.0705 Validation accuracy 0.6024\n",
            "Time taken for 1 epoch: 15.24 secs\n",
            "\n",
            "Epoch 4 Train loss 0.6217 Train accuracy 0.8123\n",
            "Epoch 4 Validation loss 2.0937 Validation accuracy 0.6037\n",
            "Time taken for 1 epoch: 15.33 secs\n",
            "\n",
            "Saving checkpoint for epoch 5 at ./checkpoints-gen/train/ckpt-15\n",
            "Epoch 5 Train loss 0.6051 Train accuracy 0.8160\n",
            "Epoch 5 Validation loss 2.1046 Validation accuracy 0.5988\n",
            "Time taken for 1 epoch: 15.86 secs\n",
            "\n",
            "Epoch 6 Train loss 0.5861 Train accuracy 0.8215\n",
            "Epoch 6 Validation loss 2.1526 Validation accuracy 0.5956\n",
            "Time taken for 1 epoch: 15.49 secs\n",
            "\n",
            "Epoch 7 Train loss 0.5741 Train accuracy 0.8247\n",
            "Epoch 7 Validation loss 2.1496 Validation accuracy 0.5996\n",
            "Time taken for 1 epoch: 15.57 secs\n",
            "\n",
            "Epoch 8 Train loss 0.5549 Train accuracy 0.8289\n",
            "Epoch 8 Validation loss 2.1687 Validation accuracy 0.6028\n",
            "Time taken for 1 epoch: 15.64 secs\n",
            "\n",
            "Epoch 9 Train loss 0.5397 Train accuracy 0.8335\n",
            "Epoch 9 Validation loss 2.2269 Validation accuracy 0.5992\n",
            "Time taken for 1 epoch: 15.69 secs\n",
            "\n",
            "Saving checkpoint for epoch 10 at ./checkpoints-gen/train/ckpt-16\n",
            "Epoch 10 Train loss 0.5264 Train accuracy 0.8369\n",
            "Epoch 10 Validation loss 2.2339 Validation accuracy 0.6032\n",
            "Time taken for 1 epoch: 16.36 secs\n",
            "\n",
            "Epoch 11 Train loss 0.5117 Train accuracy 0.8397\n",
            "Epoch 11 Validation loss 2.2577 Validation accuracy 0.6000\n",
            "Time taken for 1 epoch: 15.79 secs\n",
            "\n",
            "Epoch 12 Train loss 0.4968 Train accuracy 0.8442\n",
            "Epoch 12 Validation loss 2.2684 Validation accuracy 0.5993\n",
            "Time taken for 1 epoch: 15.85 secs\n",
            "\n",
            "Epoch 13 Train loss 0.4863 Train accuracy 0.8475\n",
            "Epoch 13 Validation loss 2.2795 Validation accuracy 0.5998\n",
            "Time taken for 1 epoch: 15.84 secs\n",
            "\n",
            "Epoch 14 Train loss 0.4746 Train accuracy 0.8507\n",
            "Epoch 14 Validation loss 2.3699 Validation accuracy 0.5948\n",
            "Time taken for 1 epoch: 15.90 secs\n",
            "\n",
            "Saving checkpoint for epoch 15 at ./checkpoints-gen/train/ckpt-17\n",
            "Epoch 15 Train loss 0.4588 Train accuracy 0.8548\n",
            "Epoch 15 Validation loss 2.3422 Validation accuracy 0.6051\n",
            "Time taken for 1 epoch: 16.32 secs\n",
            "\n",
            "Epoch 16 Train loss 0.4484 Train accuracy 0.8574\n",
            "Epoch 16 Validation loss 2.3830 Validation accuracy 0.6022\n",
            "Time taken for 1 epoch: 15.99 secs\n",
            "\n",
            "Epoch 17 Train loss 0.4410 Train accuracy 0.8598\n",
            "Epoch 17 Validation loss 2.3721 Validation accuracy 0.5974\n",
            "Time taken for 1 epoch: 15.97 secs\n",
            "\n",
            "Epoch 18 Train loss 0.4270 Train accuracy 0.8637\n",
            "Epoch 18 Validation loss 2.3963 Validation accuracy 0.5963\n",
            "Time taken for 1 epoch: 16.04 secs\n",
            "\n",
            "Epoch 19 Train loss 0.4175 Train accuracy 0.8663\n",
            "Epoch 19 Validation loss 2.4264 Validation accuracy 0.5992\n",
            "Time taken for 1 epoch: 15.99 secs\n",
            "\n",
            "Saving checkpoint for epoch 20 at ./checkpoints-gen/train/ckpt-18\n",
            "Epoch 20 Train loss 0.4044 Train accuracy 0.8704\n",
            "Epoch 20 Validation loss 2.4465 Validation accuracy 0.6023\n",
            "Time taken for 1 epoch: 16.53 secs\n",
            "\n",
            "Epoch 21 Train loss 0.3943 Train accuracy 0.8731\n",
            "Epoch 21 Validation loss 2.5226 Validation accuracy 0.5974\n",
            "Time taken for 1 epoch: 16.04 secs\n",
            "\n",
            "Epoch 22 Train loss 0.3869 Train accuracy 0.8746\n",
            "Epoch 22 Validation loss 2.5204 Validation accuracy 0.6030\n",
            "Time taken for 1 epoch: 16.07 secs\n",
            "\n",
            "Epoch 23 Train loss 0.3794 Train accuracy 0.8775\n",
            "Epoch 23 Validation loss 2.5084 Validation accuracy 0.6006\n",
            "Time taken for 1 epoch: 16.06 secs\n",
            "\n",
            "Epoch 24 Train loss 0.3671 Train accuracy 0.8813\n",
            "Epoch 24 Validation loss 2.5566 Validation accuracy 0.6025\n",
            "Time taken for 1 epoch: 16.06 secs\n",
            "\n",
            "Saving checkpoint for epoch 25 at ./checkpoints-gen/train/ckpt-19\n",
            "Epoch 25 Train loss 0.3626 Train accuracy 0.8822\n",
            "Epoch 25 Validation loss 2.5854 Validation accuracy 0.5963\n",
            "Time taken for 1 epoch: 16.51 secs\n",
            "\n",
            "Epoch 26 Train loss 0.3510 Train accuracy 0.8858\n",
            "Epoch 26 Validation loss 2.6011 Validation accuracy 0.6049\n",
            "Time taken for 1 epoch: 16.13 secs\n",
            "\n",
            "Epoch 27 Train loss 0.3431 Train accuracy 0.8882\n",
            "Epoch 27 Validation loss 2.5791 Validation accuracy 0.6003\n",
            "Time taken for 1 epoch: 16.09 secs\n",
            "\n",
            "Epoch 28 Train loss 0.3380 Train accuracy 0.8899\n",
            "Epoch 28 Validation loss 2.6435 Validation accuracy 0.5993\n",
            "Time taken for 1 epoch: 16.11 secs\n",
            "\n",
            "Epoch 29 Train loss 0.3304 Train accuracy 0.8921\n",
            "Epoch 29 Validation loss 2.6308 Validation accuracy 0.5930\n",
            "Time taken for 1 epoch: 16.09 secs\n",
            "\n",
            "Saving checkpoint for epoch 30 at ./checkpoints-gen/train/ckpt-20\n",
            "Epoch 30 Train loss 0.3224 Train accuracy 0.8949\n",
            "Epoch 30 Validation loss 2.6414 Validation accuracy 0.6002\n",
            "Time taken for 1 epoch: 16.52 secs\n",
            "\n"
          ],
          "name": "stdout"
        }
      ]
    },
    {
      "cell_type": "code",
      "metadata": {
        "id": "oLs7RBf9adCu",
        "colab": {
          "base_uri": "https://localhost:8080/",
          "height": 350
        },
        "outputId": "b33e5724-db90-43fd-f028-e30d15eb0f8d"
      },
      "source": [
        "plot_accuracy(train_losses, train_accuracies, val_losses, val_accuracies)"
      ],
      "execution_count": 17,
      "outputs": [
        {
          "output_type": "display_data",
          "data": {
            "image/png": "[encoded data removed]",
            "text/plain": [
              "<Figure size 1080x360 with 2 Axes>"
            ]
          },
          "metadata": {
            "needs_background": "light"
          }
        }
      ]
    },
    {
      "cell_type": "markdown",
      "metadata": {
        "id": "tu96I5mfajDY"
      },
      "source": [
        "Evaluate"
      ]
    },
    {
      "cell_type": "code",
      "metadata": {
        "id": "3fVPuPqlJGHA"
      },
      "source": [
        "def add_randomness(arr, r):\n",
        "  rand_arr = [1.0 + random.uniform(-r, r) for _ in arr]\n",
        "  rand_arr = np.array(rand_arr, dtype = float)\n",
        "  return np.multiply(arr, rand_arr)"
      ],
      "execution_count": 18,
      "outputs": []
    },
    {
      "cell_type": "code",
      "metadata": {
        "id": "1roq-T28ad52"
      },
      "source": [
        "def beam_search(line, max_length=1000, beam_width=10, random_factor=0.1):\n",
        "  line = tf.convert_to_tensor([line])\n",
        "  encoder_input = tokenizer.tokenize(line).to_tensor()\n",
        "\n",
        "  start, end = tokenizer.tokenize([''])[0]\n",
        "  output = tf.convert_to_tensor([start])\n",
        "  output = tf.expand_dims(output, 0)\n",
        "\n",
        "  # predictions.shape == (batch_size, seq_len, vocab_size)\n",
        "  predictions, attention_weights = transformer.call((encoder_input, output),\n",
        "                                              False)\n",
        "  predictions = tf.nn.softmax(predictions, axis=-1)\n",
        "  # select the last word from the seq_len dimension\n",
        "  predictions = predictions[:, -1:, :]  # (batch_size, 1, vocab_size)\n",
        "  predictions = add_randomness(predictions.numpy()[0][0], random_factor) \n",
        "  predictions = np.log(predictions)\n",
        "  tokens = np.argpartition(predictions, -beam_width)[-beam_width:]\n",
        "  probabilities = predictions[tokens]\n",
        "  beams = []\n",
        "  for token in tokens:\n",
        "    token = tf.convert_to_tensor([token], dtype=tf.int64)\n",
        "    token = tf.expand_dims(token, 0)\n",
        "    beams.append(tf.concat([output, token], axis=-1))\n",
        "\n",
        "  for j in range(max_length-1):\n",
        "    candidates = []\n",
        "    candidates_probs = []\n",
        "    is_all_ended = True\n",
        "    for k, beam in enumerate(beams):\n",
        "      if beam.numpy()[0][-1] != end:\n",
        "        is_all_ended = False\n",
        "        # predictions.shape == (batch_size, seq_len, vocab_size)\n",
        "        predictions, attention_weights = transformer.call((encoder_input, beam),\n",
        "                                                    False)\n",
        "        predictions = tf.nn.softmax(predictions, axis=-1)\n",
        "        # select the last word from the seq_len dimension\n",
        "        predictions = predictions[:, -1:, :]  # (batch_size, 1, vocab_size)\n",
        "        predictions = add_randomness(predictions.numpy()[0][0], random_factor) \n",
        "        predictions = np.log(predictions)\n",
        "        indeces = np.argpartition(predictions, -beam_width)[-beam_width:]\n",
        "        values = predictions[indeces] + probabilities[k]\n",
        "        for index, prob in zip(indeces, values):\n",
        "          index = tf.convert_to_tensor([index], dtype=tf.int64)\n",
        "          index = tf.expand_dims(index, 0)\n",
        "          candidates.append(tf.concat([beam, index], axis=-1))\n",
        "          candidates_probs.append(prob)\n",
        "      else:\n",
        "        text = tokenizer.detokenize(beam)[0]\n",
        "        tokens = tokenizer.lookup(beam)[0]\n",
        "        return text, tokens, attention_weights\n",
        "    print(tokenizer.detokenize(beams[0])[0].numpy().decode('utf-8'))\n",
        "    if is_all_ended:\n",
        "      break\n",
        "    best_probs = np.argpartition(candidates_probs, -beam_width)[-beam_width:]\n",
        "    for i, prob in enumerate(best_probs):\n",
        "      if beams[i].numpy()[0][-1] != end:\n",
        "        beams[i] = candidates[prob]\n",
        "        probabilities[i] = candidates_probs[prob]\n",
        "\n",
        "  text = tokenizer.detokenize(beams[0])[0]\n",
        "  tokens = tokenizer.lookup(beams[0])[0]\n",
        "  return text, tokens, attention_weights\n",
        "  "
      ],
      "execution_count": 19,
      "outputs": []
    },
    {
      "cell_type": "code",
      "metadata": {
        "id": "x3j_rtteQp_D"
      },
      "source": [
        "def top_k(line, max_length=1000, k=1, r=1.0):\n",
        "  '''\n",
        "  Parameters\n",
        "  ----------\n",
        "  line : str\n",
        "      The input line\n",
        "  max_length : int, optional\n",
        "      The max length in tokens of the output string (default is 1000)\n",
        "  k : int, optional\n",
        "      The parameter k of top-k sampling, with 1 the function behaves as a\n",
        "      standard greedy selection (default is 1)\n",
        "  r : float, optional\n",
        "      sampling is applied with probability r, so with r=0.0 the function behaves\n",
        "      as a standard greedy selection, with r=1.0 as a standard top-k sampling\n",
        "      (default is 1.0)\n",
        "  '''\n",
        "  line = tf.convert_to_tensor([line])\n",
        "  line = tokenizer.tokenize(line).to_tensor()\n",
        "\n",
        "  encoder_input = line\n",
        "\n",
        "  start, end = tokenizer.tokenize([''])[0]\n",
        "  output = tf.convert_to_tensor([start])\n",
        "  output = tf.expand_dims(output, 0)\n",
        "\n",
        "  for i in range(max_length):\n",
        "    # predictions.shape == (batch_size, seq_len, vocab_size)\n",
        "    predictions, attention_weights = transformer.call((encoder_input, output),\n",
        "                                                 False)\n",
        "    # select the last word from the seq_len dimension\n",
        "    predictions = predictions[:, -1:, :]  # (batch_size, 1, vocab_size)\n",
        "    if i > 0 and random.random() < r:\n",
        "      predictions = tf.nn.softmax(predictions, axis=-1)\n",
        "      top = tf.math.top_k(predictions.numpy()[0][0], k=k)\n",
        "      predicted_id = random.choices(top.indices.numpy(), weights=top.values.numpy(), k=1)\n",
        "      predicted_id = tf.convert_to_tensor([predicted_id], dtype=tf.int64)\n",
        "    else:\n",
        "      predicted_id = tf.argmax(predictions, axis=-1)\n",
        "    # concatentate the predicted_id to the output which is given to the decoder\n",
        "    # as its input.\n",
        "    output = tf.concat([output, predicted_id], axis=-1)\n",
        "    # return the result if the predicted_id is equal to the end token\n",
        "    if predicted_id == end:\n",
        "      break\n",
        "\n",
        "  # output.shape (1, tokens)\n",
        "  text = tokenizer.detokenize(output)[0]\n",
        "  tokens = tokenizer.lookup(output)[0]\n",
        "  return text, tokens, attention_weights"
      ],
      "execution_count": 64,
      "outputs": []
    },
    {
      "cell_type": "code",
      "metadata": {
        "id": "qA18LR5DanMC"
      },
      "source": [
        "def print_prediction(x, true=None, add_spaces=True):\n",
        "  if true is None:\n",
        "    true = 'Not provided\\n'\n",
        "\n",
        "  if add_spaces:\n",
        "    x = re.sub(' ', ' S ', x)\n",
        "  \n",
        "  predicted, _, _ = top_k(x)\n",
        "  predicted = predicted.numpy().decode('utf-8')\n",
        "  x = re.sub(' S ', ' ', x)\n",
        "  print(f'Original:\\n{x}\\n')\n",
        "  print(f'Predicted:\\n{predicted}\\n')\n",
        "  print(f'True:\\n{true}\\n')\n",
        "  print('#'*50)"
      ],
      "execution_count": 52,
      "outputs": []
    },
    {
      "cell_type": "code",
      "metadata": {
        "id": "Fa2vkGouapld"
      },
      "source": [
        "test = dataset['test']\n",
        "for batch, (x, y) in enumerate(test.batch(1)):\n",
        "  if batch > 0:\n",
        "    x = x.numpy()[0].decode('utf-8')\n",
        "    y = y.numpy()[0].decode('utf-8')\n",
        "    print_prediction(x, y, add_spaces=False)\n",
        "    if batch >=10:\n",
        "      break"
      ],
      "execution_count": null,
      "outputs": []
    },
    {
      "cell_type": "code",
      "metadata": {
        "id": "yZZrD-5bh4k3",
        "outputId": "881e5921-ad20-4459-d675-a926f3db12f1",
        "colab": {
          "base_uri": "https://localhost:8080/"
        }
      },
      "source": [
        "test = dataset['test']\n",
        "pick = random.randint(0,20)\n",
        "tercets = random.randint(10, 10)\n",
        "for i, (x, y) in enumerate(test.batch(1)):\n",
        "  if i == pick:\n",
        "    seed = x.numpy()[0].decode('utf-8')\n",
        "    break\n",
        "print('seed:\\n' + re.sub(' S ', ' ', re.sub(' N ', '\\n ', seed)) + '\\n')\n",
        "print('---generated:---\\n')\n",
        "for i in range(tercets):\n",
        "  predicted, _, _ = top_k(seed, k=2, r=0.5)\n",
        "  predicted = predicted.numpy().decode('utf-8')\n",
        "  predicted = re.sub('[|$]', '', predicted)\n",
        "  print(predicted + '\\n')\n",
        "  x = re.sub('[|$]', '', re.sub(r'\\n', ' N ', re.sub(' ', ' S ', predicted)))"
      ],
      "execution_count": 86,
      "outputs": [
        {
          "output_type": "stream",
          "text": [
            "seed:\n",
            " quale sovresso il nido si rigira\n",
            " poi c’ ha pasciuti la cicogna i figli\n",
            " e come quel ch’ è pasto la rimira \n",
            "\n",
            "---generated:---\n",
            "\n",
            "e ciò che potea non potea men duca\n",
            "rispuose a li altri non son li lori\n",
            "ma io fui ma tal de li stegni leca\n",
            "\n",
            "ma come l’ anima che di fuggegna\n",
            "in su le strappa sì com’ io li scale\n",
            "uno suoi piangere e con pausagna\n",
            "\n",
            "e come i legni che di noi pareva\n",
            "per lo segno suo passo fuor d’ i mola\n",
            "che faceva strada di città schiva\n",
            "\n",
            "e come l’ uom ch’ erano intorno lati\n",
            "per lo segne del ciel vero stremo\n",
            "che non potea col petto non t’ assili\n",
            "\n",
            "e come l’ una e l’ altra novellage\n",
            "per la sua spera di cagna in suso\n",
            "che fece parlare o avrei s’ impage\n",
            "\n",
            "e come l’ una e l’ altra novellava\n",
            "per la sua spera che caccia per croce\n",
            "un’ altra cosa i figliuoli le strava\n",
            "\n",
            "e come l’ una e l’ altra nostra porta\n",
            "per un duca mio di che fuor la pece\n",
            "uno intendenza come non si porta\n",
            "\n",
            "e come l’ uno e l’ altro insieme polo\n",
            "che fa rivenò di te mi pareva\n",
            "sì che la viva lunga mi ristelo\n",
            "\n",
            "e come l’ una e l’ altra novella strada\n",
            "che portò ne la tua virtù convegna\n",
            "di due aperte la vita r’ insada\n",
            "\n",
            "e ciò che fa la mia nostri parenti\n",
            "per l’ anime che vince fu la gola\n",
            "e quel tivivo non intende venti\n",
            "\n"
          ],
          "name": "stdout"
        }
      ]
    }
  ]
}