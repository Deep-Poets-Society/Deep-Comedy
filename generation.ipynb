{
  "nbformat": 4,
  "nbformat_minor": 0,
  "metadata": {
    "kernelspec": {
      "display_name": "Python 3",
      "language": "python",
      "name": "python3"
    },
    "language_info": {
      "codemirror_mode": {
        "name": "ipython",
        "version": 2
      },
      "file_extension": ".py",
      "mimetype": "text/x-python",
      "name": "python",
      "nbconvert_exporter": "python",
      "pygments_lexer": "ipython2",
      "version": "2.7.6"
    },
    "colab": {
      "name": "generation.ipynb",
      "provenance": [],
      "machine_shape": "hm",
      "include_colab_link": true
    },
    "accelerator": "GPU"
  },
  "cells": [
    {
      "cell_type": "markdown",
      "metadata": {
        "id": "view-in-github",
        "colab_type": "text"
      },
      "source": [
        "<a href=\"https://colab.research.google.com/github/Deep-Poets-Society/Deep-Comedy/blob/main/generation.ipynb\" target=\"_parent\"><img src=\"https://colab.research.google.com/assets/colab-badge.svg\" alt=\"Open In Colab\"/></a>"
      ]
    },
    {
      "cell_type": "code",
      "metadata": {
        "collapsed": true,
        "id": "meOETGziWXvK",
        "outputId": "f18e366a-575a-4044-9ecc-604163cb2715",
        "colab": {
          "base_uri": "https://localhost:8080/"
        }
      },
      "source": [
        "# Google Colab Setup\n",
        "\n",
        "import sys\n",
        "import os\n",
        "\n",
        "%cd /content\n",
        "!rm -rf Deep-Comedy &> /dev/null\n",
        "!git clone https://github.com/Deep-Poets-Society/Deep-Comedy &> /dev/null\n",
        "%cd Deep-Comedy\n",
        "\n",
        "sys.path.append(os.getcwd())\n",
        "\n",
        "!pip install tensorflow &> /dev/null\n",
        "!pip install tensorflow_text &> /dev/null"
      ],
      "execution_count": 1,
      "outputs": [
        {
          "output_type": "stream",
          "text": [
            "/content\n",
            "/content/Deep-Comedy\n"
          ],
          "name": "stdout"
        }
      ]
    },
    {
      "cell_type": "code",
      "metadata": {
        "pycharm": {
          "name": "#%%\n"
        },
        "id": "_obGbyOAWXvN"
      },
      "source": [
        "from tokenizer import Tokenizer\n",
        "import tensorflow as tf\n",
        "import time\n",
        "import numpy as np\n",
        "import re\n",
        "from matplotlib import pyplot as plt\n",
        "from utils import load_dataset_for_gen, positional_encoding, loss_function, accuracy_function, plot_accuracy\n",
        "from models import Transformer, create_masks\n",
        "from schedules import CustomSchedule\n",
        "from preprocessing import CESURA, SPACE, SYL\n",
        "from preprocessing_gen import NEW_LINE"
      ],
      "execution_count": 2,
      "outputs": []
    },
    {
      "cell_type": "code",
      "metadata": {
        "pycharm": {
          "name": "#%%\n"
        },
        "id": "iISOBuwsWXvO"
      },
      "source": [
        "dataset = load_dataset_for_gen()\n",
        "train = dataset['train']\n",
        "val = dataset['val']"
      ],
      "execution_count": 3,
      "outputs": []
    },
    {
      "cell_type": "code",
      "metadata": {
        "id": "F7hZPa0rWsFK"
      },
      "source": [
        "tokenizer = Tokenizer(['[START]', '[END]', f'{SPACE}', f'{NEW_LINE}'], 'res/vocab_gen.txt')"
      ],
      "execution_count": null,
      "outputs": []
    },
    {
      "cell_type": "code",
      "metadata": {
        "id": "6oyo9jVqXEBP"
      },
      "source": [
        "BUFFER_SIZE = 20000\n",
        "BATCH_SIZE = 64"
      ],
      "execution_count": 5,
      "outputs": []
    },
    {
      "cell_type": "code",
      "metadata": {
        "id": "yjuN7z5UXPyf"
      },
      "source": [
        "def tokenize_pairs(X, y):\n",
        "    X = tokenizer.tokenize(X)\n",
        "    # Convert from ragged to dense, padding with zeros.\n",
        "    X = X.to_tensor()\n",
        "\n",
        "    y = tokenizer.tokenize(y)\n",
        "    # Convert from ragged to dense, padding with zeros.\n",
        "    y = y.to_tensor()\n",
        "\n",
        "    return X, y\n",
        "\n",
        "\n",
        "def make_batches(ds):\n",
        "    return (ds\n",
        "            .cache()\n",
        "            .shuffle(BUFFER_SIZE)\n",
        "            .batch(BATCH_SIZE)\n",
        "            .map(tokenize_pairs, num_parallel_calls=tf.data.AUTOTUNE)\n",
        "            .prefetch(tf.data.AUTOTUNE)\n",
        "            )"
      ],
      "execution_count": 6,
      "outputs": []
    },
    {
      "cell_type": "code",
      "metadata": {
        "id": "mOXlzclsXT5Q"
      },
      "source": [
        "train_batches = make_batches(train)\n",
        "val_batches = make_batches(val)"
      ],
      "execution_count": 7,
      "outputs": []
    },
    {
      "cell_type": "markdown",
      "metadata": {
        "id": "q3ok0NJuXjQH"
      },
      "source": [
        "Hyperparameters"
      ]
    },
    {
      "cell_type": "code",
      "metadata": {
        "id": "aBqbFhDxXmeS"
      },
      "source": [
        "num_layers = 4\n",
        "d_model = 256\n",
        "dff = 1024\n",
        "num_heads = 8\n",
        "dropout_rate = 0.1"
      ],
      "execution_count": 8,
      "outputs": []
    },
    {
      "cell_type": "markdown",
      "metadata": {
        "id": "5uDDG_jfXvWQ"
      },
      "source": [
        "Set Adam Optimizer"
      ]
    },
    {
      "cell_type": "code",
      "metadata": {
        "id": "3MEUXiqhXt6V"
      },
      "source": [
        "learning_rate = CustomSchedule(d_model)\n",
        "\n",
        "optimizer = tf.keras.optimizers.Adam(learning_rate, beta_1=0.9, beta_2=0.98,\n",
        "                                     epsilon=1e-9)"
      ],
      "execution_count": 9,
      "outputs": []
    },
    {
      "cell_type": "markdown",
      "metadata": {
        "id": "aY-LaGtYYBJW"
      },
      "source": [
        "Loss and metrics"
      ]
    },
    {
      "cell_type": "code",
      "metadata": {
        "id": "D4HiTjb-YFT3"
      },
      "source": [
        "train_loss = tf.keras.metrics.Mean(name='train_loss')\n",
        "train_accuracy = tf.keras.metrics.Mean(name='train_accuracy')\n",
        "\n",
        "val_loss = tf.keras.metrics.Mean(name='val_loss')\n",
        "val_accuracy = tf.keras.metrics.Mean(name='val_accuracy')"
      ],
      "execution_count": 10,
      "outputs": []
    },
    {
      "cell_type": "markdown",
      "metadata": {
        "id": "Rq0hnim-YLqk"
      },
      "source": [
        "Training and checkpoint\n"
      ]
    },
    {
      "cell_type": "code",
      "metadata": {
        "id": "0lwoNOLtYJXp"
      },
      "source": [
        "transformer = Transformer(\n",
        "    num_layers=num_layers,\n",
        "    d_model=d_model,\n",
        "    num_heads=num_heads,\n",
        "    dff=dff,\n",
        "    input_vocab_size=tokenizer.get_vocab_size().numpy(),\n",
        "    target_vocab_size=tokenizer.get_vocab_size().numpy(),\n",
        "    pe_input=1000,\n",
        "    pe_target=1000,\n",
        "    rate=dropout_rate)"
      ],
      "execution_count": 11,
      "outputs": []
    },
    {
      "cell_type": "code",
      "metadata": {
        "id": "Gqlj7C65YVHH"
      },
      "source": [
        "checkpoint_path = \"./checkpoints-gen/train\"\n",
        "\n",
        "ckpt = tf.train.Checkpoint(transformer=transformer,\n",
        "                           optimizer=optimizer)\n",
        "\n",
        "ckpt_manager = tf.train.CheckpointManager(ckpt, checkpoint_path, max_to_keep=5)\n",
        "\n",
        "# if a checkpoint exists, restore the latest checkpoint.\n",
        "if ckpt_manager.latest_checkpoint:\n",
        "    ckpt.restore(ckpt_manager.latest_checkpoint)\n",
        "    print('Latest checkpoint restored!!')"
      ],
      "execution_count": 12,
      "outputs": []
    },
    {
      "cell_type": "code",
      "metadata": {
        "id": "d_6U6RisYbrK"
      },
      "source": [
        "EPOCHS = 20"
      ],
      "execution_count": 13,
      "outputs": []
    },
    {
      "cell_type": "code",
      "metadata": {
        "id": "it12KKOdYe-w"
      },
      "source": [
        "# The @tf.function trace-compiles train_step into a TF graph for faster\n",
        "# execution. The function specializes to the precise shape of the argument\n",
        "# tensors. To avoid re-tracing due to the variable sequence lengths or variable\n",
        "# batch sizes (the last batch is smaller), use input_signature to specify\n",
        "# more generic shapes.\n",
        "\n",
        "train_step_signature = [\n",
        "    tf.TensorSpec(shape=(None, None), dtype=tf.int64),\n",
        "    tf.TensorSpec(shape=(None, None), dtype=tf.int64),\n",
        "]\n",
        "\n",
        "\n",
        "@tf.function(input_signature=train_step_signature)\n",
        "def train_step(inp, tar):\n",
        "  tar_inp = tar[:, :-1]\n",
        "  tar_real = tar[:, 1:]\n",
        "\n",
        "  with tf.GradientTape() as tape:\n",
        "    predictions, _ = transformer([inp, tar_inp],\n",
        "                                 training = True)\n",
        "    loss = loss_function(tar_real, predictions)\n",
        "\n",
        "  gradients = tape.gradient(loss, transformer.trainable_variables)\n",
        "  optimizer.apply_gradients(zip(gradients, transformer.trainable_variables))\n",
        "\n",
        "  train_loss(loss)\n",
        "  train_accuracy(accuracy_function(tar_real, predictions))"
      ],
      "execution_count": 14,
      "outputs": []
    },
    {
      "cell_type": "code",
      "metadata": {
        "id": "0GSoUFswYggU"
      },
      "source": [
        "train_losses = []\n",
        "train_accuracies = []\n",
        "val_losses = []\n",
        "val_accuracies = []"
      ],
      "execution_count": 15,
      "outputs": []
    },
    {
      "cell_type": "code",
      "metadata": {
        "id": "ihPztlN2YjSj",
        "outputId": "905cfdd6-9aea-4571-faa1-18751c3f76ab",
        "colab": {
          "base_uri": "https://localhost:8080/"
        }
      },
      "source": [
        "for epoch in range(EPOCHS):\n",
        "  start = time.time()\n",
        "\n",
        "  train_loss.reset_states()\n",
        "  train_accuracy.reset_states()\n",
        "  val_loss.reset_states()\n",
        "  val_accuracy.reset_states()\n",
        "\n",
        "  # inp -> X, tar -> y\n",
        "  for (batch, entry) in enumerate(train_batches):\n",
        "    inp = entry[0]\n",
        "    tar = entry[1]\n",
        "    train_step(inp, tar)\n",
        "\n",
        "    #if batch % 50 == 0:\n",
        "    #  print(f'Epoch {epoch + 1} Batch {batch} Loss {train_loss.result():.4f} Accuracy {train_accuracy.result():.4f}')\n",
        "\n",
        "  if (epoch + 1) % 5 == 0:\n",
        "    ckpt_save_path = ckpt_manager.save()\n",
        "    print(f'Saving checkpoint for epoch {epoch+1} at {ckpt_save_path}')\n",
        "  \n",
        "  for val_entry in val_batches:\n",
        "    val_inp = val_entry[0]\n",
        "    val_tar = val_entry[1]\n",
        "    val_tar_inp = val_tar[:, :-1]\n",
        "    val_tar_real = val_tar[:, 1:]\n",
        "    with tf.GradientTape() as tape:\n",
        "      predictions, _ = transformer([val_inp, val_tar_inp],\n",
        "                                 training = False)\n",
        "    loss = loss_function(val_tar_real, predictions)\n",
        "    val_loss(loss)\n",
        "    val_accuracy(accuracy_function(val_tar_real, predictions))\n",
        "  \n",
        "  print(f'Epoch {epoch + 1} Train loss {train_loss.result():.4f} Train accuracy {train_accuracy.result():.4f}')\n",
        "  print(f'Epoch {epoch + 1} Validation loss {val_loss.result():.4f} Validation accuracy {val_accuracy.result():.4f}')\n",
        "\n",
        "  train_losses.append(train_loss.result().numpy())\n",
        "  train_accuracies.append(train_accuracy.result().numpy())\n",
        "  val_losses.append(val_loss.result().numpy())\n",
        "  val_accuracies.append(val_accuracy.result().numpy())\n",
        "\n",
        "  print(f'Time taken for 1 epoch: {time.time() - start:.2f} secs\\n')"
      ],
      "execution_count": 16,
      "outputs": [
        {
          "output_type": "stream",
          "text": [
            "Epoch 1 Train loss 4.6053 Train accuracy 0.1796\n",
            "Epoch 1 Validation loss 4.0401 Validation accuracy 0.2272\n",
            "Time taken for 1 epoch: 27.52 secs\n",
            "\n",
            "Epoch 2 Train loss 3.9713 Train accuracy 0.2231\n",
            "Epoch 2 Validation loss 3.6902 Validation accuracy 0.2298\n",
            "Time taken for 1 epoch: 10.83 secs\n",
            "\n",
            "Epoch 3 Train loss 3.4210 Train accuracy 0.2570\n",
            "Epoch 3 Validation loss 3.0077 Validation accuracy 0.3013\n",
            "Time taken for 1 epoch: 10.85 secs\n",
            "\n",
            "Epoch 4 Train loss 2.9611 Train accuracy 0.2999\n",
            "Epoch 4 Validation loss 2.7460 Validation accuracy 0.3323\n",
            "Time taken for 1 epoch: 10.85 secs\n",
            "\n",
            "Saving checkpoint for epoch 5 at ./checkpoints-gen/train/ckpt-1\n",
            "Epoch 5 Train loss 2.7703 Train accuracy 0.3205\n",
            "Epoch 5 Validation loss 2.6197 Validation accuracy 0.3435\n",
            "Time taken for 1 epoch: 11.33 secs\n",
            "\n",
            "Epoch 6 Train loss 2.6644 Train accuracy 0.3327\n",
            "Epoch 6 Validation loss 2.5583 Validation accuracy 0.3486\n",
            "Time taken for 1 epoch: 10.89 secs\n",
            "\n",
            "Epoch 7 Train loss 2.5975 Train accuracy 0.3435\n",
            "Epoch 7 Validation loss 2.5026 Validation accuracy 0.3582\n",
            "Time taken for 1 epoch: 10.83 secs\n",
            "\n",
            "Epoch 8 Train loss 2.5500 Train accuracy 0.3507\n",
            "Epoch 8 Validation loss 2.4753 Validation accuracy 0.3641\n",
            "Time taken for 1 epoch: 10.81 secs\n",
            "\n",
            "Epoch 9 Train loss 2.5117 Train accuracy 0.3584\n",
            "Epoch 9 Validation loss 2.4440 Validation accuracy 0.3719\n",
            "Time taken for 1 epoch: 10.88 secs\n",
            "\n",
            "Saving checkpoint for epoch 10 at ./checkpoints-gen/train/ckpt-2\n",
            "Epoch 10 Train loss 2.4744 Train accuracy 0.3661\n",
            "Epoch 10 Validation loss 2.3965 Validation accuracy 0.3864\n",
            "Time taken for 1 epoch: 11.27 secs\n",
            "\n",
            "Epoch 11 Train loss 2.4317 Train accuracy 0.3762\n",
            "Epoch 11 Validation loss 2.3686 Validation accuracy 0.3939\n",
            "Time taken for 1 epoch: 10.85 secs\n",
            "\n",
            "Epoch 12 Train loss 2.3805 Train accuracy 0.3900\n",
            "Epoch 12 Validation loss 2.3203 Validation accuracy 0.4143\n",
            "Time taken for 1 epoch: 10.84 secs\n",
            "\n",
            "Epoch 13 Train loss 2.3282 Train accuracy 0.4036\n",
            "Epoch 13 Validation loss 2.2618 Validation accuracy 0.4218\n",
            "Time taken for 1 epoch: 10.86 secs\n",
            "\n",
            "Epoch 14 Train loss 2.2749 Train accuracy 0.4172\n",
            "Epoch 14 Validation loss 2.2111 Validation accuracy 0.4422\n",
            "Time taken for 1 epoch: 10.87 secs\n",
            "\n",
            "Saving checkpoint for epoch 15 at ./checkpoints-gen/train/ckpt-3\n",
            "Epoch 15 Train loss 2.2191 Train accuracy 0.4308\n",
            "Epoch 15 Validation loss 2.1381 Validation accuracy 0.4518\n",
            "Time taken for 1 epoch: 11.28 secs\n",
            "\n",
            "Epoch 16 Train loss 2.1587 Train accuracy 0.4452\n",
            "Epoch 16 Validation loss 2.0980 Validation accuracy 0.4597\n",
            "Time taken for 1 epoch: 10.87 secs\n",
            "\n",
            "Epoch 17 Train loss 2.1077 Train accuracy 0.4572\n",
            "Epoch 17 Validation loss 2.0596 Validation accuracy 0.4688\n",
            "Time taken for 1 epoch: 10.82 secs\n",
            "\n",
            "Epoch 18 Train loss 2.0628 Train accuracy 0.4683\n",
            "Epoch 18 Validation loss 2.0187 Validation accuracy 0.4819\n",
            "Time taken for 1 epoch: 10.85 secs\n",
            "\n",
            "Epoch 19 Train loss 2.0219 Train accuracy 0.4781\n",
            "Epoch 19 Validation loss 2.0115 Validation accuracy 0.4861\n",
            "Time taken for 1 epoch: 10.84 secs\n",
            "\n",
            "Saving checkpoint for epoch 20 at ./checkpoints-gen/train/ckpt-4\n",
            "Epoch 20 Train loss 1.9877 Train accuracy 0.4865\n",
            "Epoch 20 Validation loss 1.9788 Validation accuracy 0.4924\n",
            "Time taken for 1 epoch: 11.32 secs\n",
            "\n"
          ],
          "name": "stdout"
        }
      ]
    },
    {
      "cell_type": "code",
      "metadata": {
        "id": "oLs7RBf9adCu",
        "outputId": "c6851d73-082c-4f23-a661-7e0bf91bdcfb",
        "colab": {
          "base_uri": "https://localhost:8080/",
          "height": 350
        }
      },
      "source": [
        "plot_accuracy(train_losses, train_accuracies, val_losses, val_accuracies)"
      ],
      "execution_count": 17,
      "outputs": [
        {
          "output_type": "display_data",
          "data": {
            "image/png": "[encoded data removed]",
            "text/plain": [
              "<Figure size 1080x360 with 2 Axes>"
            ]
          },
          "metadata": {
            "needs_background": "light"
          }
        }
      ]
    },
    {
      "cell_type": "markdown",
      "metadata": {
        "id": "tu96I5mfajDY"
      },
      "source": [
        "Evaluate"
      ]
    },
    {
      "cell_type": "code",
      "metadata": {
        "id": "1roq-T28ad52"
      },
      "source": [
        "def evaluate(line, max_length=100):\n",
        "  line = tf.convert_to_tensor([line])\n",
        "  line = tokenizer.tokenize(line).to_tensor()\n",
        "\n",
        "  encoder_input = line\n",
        "\n",
        "  start, end = tokenizer.tokenize([''])[0]\n",
        "  output = tf.convert_to_tensor([start])\n",
        "  output = tf.expand_dims(output, 0)\n",
        "\n",
        "  for i in range(max_length):\n",
        "    enc_padding_mask, combined_mask, dec_padding_mask = create_masks(\n",
        "        encoder_input, output)\n",
        "\n",
        "    # predictions.shape == (batch_size, seq_len, vocab_size)\n",
        "    predictions, attention_weights = transformer.call((encoder_input, output),\n",
        "                                                 False)\n",
        "\n",
        "    # select the last word from the seq_len dimension\n",
        "    predictions = predictions[:, -1:, :]  # (batch_size, 1, vocab_size)\n",
        "\n",
        "    predicted_id = tf.argmax(predictions, axis=-1)\n",
        "\n",
        "    # concatentate the predicted_id to the output which is given to the decoder\n",
        "    # as its input.\n",
        "    output = tf.concat([output, predicted_id], axis=-1)\n",
        "\n",
        "    # return the result if the predicted_id is equal to the end token\n",
        "    if predicted_id == end:\n",
        "      break\n",
        "\n",
        "  # output.shape (1, tokens)\n",
        "  text = tokenizer.detokenize(output)[0]  # shape: ()\n",
        "\n",
        "  tokens = tokenizer.lookup(output)[0]\n",
        "\n",
        "  return text, tokens, attention_weights"
      ],
      "execution_count": 18,
      "outputs": []
    },
    {
      "cell_type": "code",
      "metadata": {
        "id": "qA18LR5DanMC"
      },
      "source": [
        "def print_prediction(x, true=None, add_spaces=True):\n",
        "  if true is None:\n",
        "    true = 'Not provided\\n'\n",
        "\n",
        "  if add_spaces:\n",
        "    x = re.sub(' ', ' S ', x)\n",
        "  \n",
        "  predicted, _, _ = evaluate(x)\n",
        "  predicted = predicted.numpy().decode('utf-8')\n",
        "  x = re.sub(' S ', ' ', x)\n",
        "  print(f'Original:\\n{x}\\n')\n",
        "  print(f'Predicted:\\n{predicted}\\n')\n",
        "  print(f'True:\\n{true}\\n')\n",
        "  print('#'*20)"
      ],
      "execution_count": 19,
      "outputs": []
    },
    {
      "cell_type": "code",
      "metadata": {
        "id": "Fa2vkGouapld",
        "outputId": "15c53dce-faf9-45ae-8287-de4352625838",
        "colab": {
          "base_uri": "https://localhost:8080/"
        }
      },
      "source": [
        "test = dataset['test']\n",
        "for batch, (x, y) in enumerate(test.batch(1)):\n",
        "  x = x.numpy()[0].decode('utf-8')\n",
        "  y = y.numpy()[0].decode('utf-8')\n",
        "  print_prediction(x, y, add_spaces=False)\n",
        "  if batch >=9 :\n",
        "    break"
      ],
      "execution_count": 20,
      "outputs": [
        {
          "output_type": "stream",
          "text": [
            "Original:\n",
            "\n",
            "e come albero in nave si levò \n",
            "\n",
            "Predicted:\n",
            "[ TART]sto a l’ altro che ’l ciel che ’l solo\n",
            "di quel che ’l ciel che ’l mondo avea e ’l ciel che ’l sol spesso\n",
            "\n",
            "True:\n",
            "\n",
            "s’ S ïo S avessi S le S rime S aspre S e S chiocce N\n",
            "come S si S converrebbe S al S tristo S buco N\n",
            "sovra S ’l S qual S pontan S tutte S l’ S altre S rocce \n",
            "\n",
            "####################\n",
            "Original:\n",
            "\n",
            "or perché in circuito tutto quanto N\n",
            "l’ aere si volge con la prima volta N\n",
            "se non li è rotto il cerchio d’ alcun canto \n",
            "\n",
            "Predicted:\n",
            "[ TART]sta la mia parte e per la sua stella\n",
            "e come a la sua spera e ’l mondo\n",
            "che ’l posso a la sua sperta e spala\n",
            "\n",
            "True:\n",
            "\n",
            "in S questa S altezza S ch’ S è S tutta S disciolta N\n",
            "ne S l’ S aere S vivo S tal S moto S percuote N\n",
            "e S fa S sonar S la S selva S perch’ S è S folta \n",
            "\n",
            "####################\n",
            "Original:\n",
            "\n",
            "i’ fui colui che la ghisolabella N\n",
            "condussi a far la voglia del marchese N\n",
            "come che suoni la sconcia novella \n",
            "\n",
            "Predicted:\n",
            "[ TART]so a la gente che ’l mondo a la schiene\n",
            "e ’l posso e ’l mondo che ’l mondo a l’ altro e ’l sol sche\n",
            "\n",
            "True:\n",
            "\n",
            "e S non S pur S io S qui S piango S bolognese N\n",
            "anzi S n’ S è S questo S loco S tanto S pieno N\n",
            "che S tante S lingue S non S son S ora S apprese \n",
            "\n",
            "####################\n",
            "Original:\n",
            "\n",
            "elli avean cappe con cappucci bassi N\n",
            "dinanzi a li occhi fatte de la taglia N\n",
            "che in clugnì per li monaci fassi \n",
            "\n",
            "Predicted:\n",
            "[ TART]sto a la gente che ’l mondo a la spessa\n",
            "di quella che ’l possa a l’ altra che ’l posso a l’ altro appersa\n",
            "\n",
            "True:\n",
            "\n",
            "di S fuor S dorate S son S sì S ch’ S elli S abbaglia N\n",
            "ma S dentro S tutte S piombo S e S gravi S tanto N\n",
            "che S federigo S le S mettea S di S paglia \n",
            "\n",
            "####################\n",
            "WARNING:tensorflow:5 out of the last 5 calls to <function Tokenizer.detokenize at 0x7f22fa8a8c20> triggered tf.function retracing. Tracing is expensive and the excessive number of tracings could be due to (1) creating @tf.function repeatedly in a loop, (2) passing tensors with different shapes, (3) passing Python objects instead of tensors. For (1), please define your @tf.function outside of the loop. For (2), @tf.function has experimental_relax_shapes=True option that relaxes argument shapes that can avoid unnecessary retracing. For (3), please refer to https://www.tensorflow.org/guide/function#controlling_retracing and https://www.tensorflow.org/api_docs/python/tf/function for  more details.\n",
            "WARNING:tensorflow:5 out of the last 5 calls to <function Tokenizer.lookup at 0x7f22fa92b8c0> triggered tf.function retracing. Tracing is expensive and the excessive number of tracings could be due to (1) creating @tf.function repeatedly in a loop, (2) passing tensors with different shapes, (3) passing Python objects instead of tensors. For (1), please define your @tf.function outside of the loop. For (2), @tf.function has experimental_relax_shapes=True option that relaxes argument shapes that can avoid unnecessary retracing. For (3), please refer to https://www.tensorflow.org/guide/function#controlling_retracing and https://www.tensorflow.org/api_docs/python/tf/function for  more details.\n",
            "Original:\n",
            "\n",
            "così l’ animo mio ch’ ancor fuggiva N\n",
            "si volse a retro a rimirar lo passo N\n",
            "che non lasciò già mai persona viva \n",
            "\n",
            "Predicted:\n",
            "[ TART]so a la mia mia che ’l possso asssa\n",
            "di quel che ’l posso a la mia mia rispossa\n",
            "e per che ’l posso a la mia mia scchiasssssssa\n",
            "\n",
            "True:\n",
            "\n",
            "poi S ch’ S èi S posato S un S poco S il S corpo S lasso N\n",
            "ripresi S via S per S la S piaggia S diserta N\n",
            "sì S che S ’l S piè S fermo S sempre S era S ’l S più S basso \n",
            "\n",
            "####################\n",
            "Original:\n",
            "\n",
            "poi che noi fummo in su l’ orlo suppremo N\n",
            "de l’ alta ripa a la scoperta piaggia N\n",
            "maestro mio diss’ io che via faremo \n",
            "\n",
            "Predicted:\n",
            "[ TART]sto a la gente che ’l monte a la sperta\n",
            "di quella che ’l possa a la spetta\n",
            "e come che ’l sol di là si spetta\n",
            "\n",
            "True:\n",
            "\n",
            "ed S elli S a S me S nessun S tuo S passo S caggia N\n",
            "pur S su S al S monte S dietro S a S me S acquista N\n",
            "fin S che S n’ S appaia S alcuna S scorta S saggia \n",
            "\n",
            "####################\n",
            "WARNING:tensorflow:6 out of the last 7 calls to <function Tokenizer.detokenize at 0x7f22fa8a8c20> triggered tf.function retracing. Tracing is expensive and the excessive number of tracings could be due to (1) creating @tf.function repeatedly in a loop, (2) passing tensors with different shapes, (3) passing Python objects instead of tensors. For (1), please define your @tf.function outside of the loop. For (2), @tf.function has experimental_relax_shapes=True option that relaxes argument shapes that can avoid unnecessary retracing. For (3), please refer to https://www.tensorflow.org/guide/function#controlling_retracing and https://www.tensorflow.org/api_docs/python/tf/function for  more details.\n",
            "WARNING:tensorflow:6 out of the last 7 calls to <function Tokenizer.lookup at 0x7f22fa92b8c0> triggered tf.function retracing. Tracing is expensive and the excessive number of tracings could be due to (1) creating @tf.function repeatedly in a loop, (2) passing tensors with different shapes, (3) passing Python objects instead of tensors. For (1), please define your @tf.function outside of the loop. For (2), @tf.function has experimental_relax_shapes=True option that relaxes argument shapes that can avoid unnecessary retracing. For (3), please refer to https://www.tensorflow.org/guide/function#controlling_retracing and https://www.tensorflow.org/api_docs/python/tf/function for  more details.\n",
            "Original:\n",
            "\n",
            "e tutti suoi voleri e atti buoni N\n",
            "sono quanto ragione umana vede N\n",
            "sanza peccato in vita o in sermoni \n",
            "\n",
            "Predicted:\n",
            "[ TART]sto a la gente che si riposta a la spa\n",
            "per che ’l maestro a la sua sperta\n",
            "e per che ’l posso a la sua schia e scca\n",
            "\n",
            "True:\n",
            "\n",
            "muore S non S battezzato S e S sanza S fede N\n",
            "ov’ S è S questa S giustizia S che S ’l S condanna N\n",
            "ov’ S è S la S colpa S sua S se S ei S non S crede \n",
            "\n",
            "####################\n",
            "Original:\n",
            "\n",
            "ma dimmi chi tu se’ che ’n sì dolente N\n",
            "loco se’ messo e hai sì fatta pena N\n",
            "che s’ altra è maggio nulla è sì spiacente \n",
            "\n",
            "Predicted:\n",
            "[ TART]sa la vita che la via la scella\n",
            "e come a la sua spera e ’l solo apperta\n",
            "e l’ altra che ’l sol si sperta a la spa\n",
            "\n",
            "True:\n",
            "\n",
            "ed S elli S a S me S la S tua S città S ch’ S è S piena N\n",
            "d’ S invidia S sì S che S già S trabocca S il S sacco N\n",
            "seco S mi S tenne S in S la S vita S serena \n",
            "\n",
            "####################\n",
            "Original:\n",
            "\n",
            "questa picciola stella si correda N\n",
            "d’ i buoni spirti che son stati attivi N\n",
            "perché onore e fama li succeda \n",
            "\n",
            "Predicted:\n",
            "[ TART]sta a la gente che ’l monte a la vita\n",
            "di quel che ’l maestro a la sua spetta\n",
            "e per che ’l vista a la vita e spatta\n",
            "\n",
            "True:\n",
            "\n",
            "e S quando S li S disiri S poggian S quivi N\n",
            "sì S disvïando S pur S convien S che S i S raggi N\n",
            "del S vero S amore S in S sù S poggin S men S vivi \n",
            "\n",
            "####################\n",
            "Original:\n",
            "\n",
            "quale sovresso il nido si rigira N\n",
            "poi c’ ha pasciuti la cicogna i figli N\n",
            "e come quel ch’ è pasto la rimira \n",
            "\n",
            "Predicted:\n",
            "[ TART]so a l’ altra che ’l sol di sperto\n",
            "di quel che ’l sol che ’l sol di spetto\n",
            "e ’l sol che ’l sol di sol di spetto\n",
            "\n",
            "True:\n",
            "\n",
            "cotal S si S fece S e S sì S levai S i S cigli N\n",
            "la S benedetta S imagine S che S l’ S ali N\n",
            "movea S sospinte S da S tanti S consigli \n",
            "\n",
            "####################\n"
          ],
          "name": "stdout"
        }
      ]
    }
  ]
}