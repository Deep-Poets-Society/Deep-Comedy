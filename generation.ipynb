{
  "nbformat": 4,
  "nbformat_minor": 0,
  "metadata": {
    "kernelspec": {
      "display_name": "Python 3",
      "language": "python",
      "name": "python3"
    },
    "language_info": {
      "codemirror_mode": {
        "name": "ipython",
        "version": 2
      },
      "file_extension": ".py",
      "mimetype": "text/x-python",
      "name": "python",
      "nbconvert_exporter": "python",
      "pygments_lexer": "ipython2",
      "version": "2.7.6"
    },
    "colab": {
      "name": "generation.ipynb",
      "provenance": [],
      "machine_shape": "hm",
      "include_colab_link": true
    },
    "accelerator": "GPU"
  },
  "cells": [
    {
      "cell_type": "markdown",
      "metadata": {
        "id": "view-in-github",
        "colab_type": "text"
      },
      "source": [
        "<a href=\"https://colab.research.google.com/github/Deep-Poets-Society/Deep-Comedy/blob/beam_search/generation.ipynb\" target=\"_parent\"><img src=\"https://colab.research.google.com/assets/colab-badge.svg\" alt=\"Open In Colab\"/></a>"
      ]
    },
    {
      "cell_type": "code",
      "metadata": {
        "collapsed": true,
        "id": "meOETGziWXvK",
        "colab": {
          "base_uri": "https://localhost:8080/"
        },
        "outputId": "61865f52-206f-4ef4-a92f-10fbe1bbbe06"
      },
      "source": [
        "# Google Colab Setup\n",
        "\n",
        "import sys\n",
        "import os\n",
        "\n",
        "%cd /content\n",
        "!rm -rf Deep-Comedy &> /dev/null\n",
        "!git clone https://github.com/Deep-Poets-Society/Deep-Comedy &> /dev/null\n",
        "%cd Deep-Comedy\n",
        "\n",
        "sys.path.append(os.getcwd())\n",
        "\n",
        "!pip install tensorflow &> /dev/null\n",
        "!pip install tensorflow_text &> /dev/null"
      ],
      "execution_count": 1,
      "outputs": [
        {
          "output_type": "stream",
          "text": [
            "/content\n",
            "/content/Deep-Comedy\n"
          ],
          "name": "stdout"
        }
      ]
    },
    {
      "cell_type": "code",
      "metadata": {
        "pycharm": {
          "name": "#%%\n"
        },
        "id": "_obGbyOAWXvN"
      },
      "source": [
        "from tokenizer import Tokenizer\n",
        "import tensorflow as tf\n",
        "import time\n",
        "import numpy as np\n",
        "import re\n",
        "from matplotlib import pyplot as plt\n",
        "from utils import load_dataset_for_gen, positional_encoding, loss_function, accuracy_function, plot_accuracy\n",
        "from models import Transformer, create_masks\n",
        "from schedules import CustomSchedule\n",
        "from preprocessing import CESURA, SPACE, SYL, NEW_LINE"
      ],
      "execution_count": 2,
      "outputs": []
    },
    {
      "cell_type": "code",
      "metadata": {
        "pycharm": {
          "name": "#%%\n"
        },
        "id": "iISOBuwsWXvO"
      },
      "source": [
        "dataset = load_dataset_for_gen()\n",
        "train = dataset['train']\n",
        "val = dataset['val']"
      ],
      "execution_count": 3,
      "outputs": []
    },
    {
      "cell_type": "code",
      "metadata": {
        "id": "F7hZPa0rWsFK"
      },
      "source": [
        "tokenizer = Tokenizer(['[START]', '[END]', f'{SPACE}', f'{NEW_LINE}'], 'res/vocab_gen.txt')"
      ],
      "execution_count": 4,
      "outputs": []
    },
    {
      "cell_type": "code",
      "metadata": {
        "id": "6oyo9jVqXEBP"
      },
      "source": [
        "BUFFER_SIZE = 20000\n",
        "BATCH_SIZE = 64"
      ],
      "execution_count": 5,
      "outputs": []
    },
    {
      "cell_type": "code",
      "metadata": {
        "id": "yjuN7z5UXPyf"
      },
      "source": [
        "def tokenize_pairs(X, y):\n",
        "    X = tokenizer.tokenize(X)\n",
        "    # Convert from ragged to dense, padding with zeros.\n",
        "    X = X.to_tensor()\n",
        "\n",
        "    y = tokenizer.tokenize(y)\n",
        "    # Convert from ragged to dense, padding with zeros.\n",
        "    y = y.to_tensor()\n",
        "\n",
        "    return X, y\n",
        "\n",
        "\n",
        "def make_batches(ds):\n",
        "    return (ds\n",
        "            .cache()\n",
        "            .shuffle(BUFFER_SIZE)\n",
        "            .batch(BATCH_SIZE)\n",
        "            .map(tokenize_pairs, num_parallel_calls=tf.data.AUTOTUNE)\n",
        "            .prefetch(tf.data.AUTOTUNE)\n",
        "            )"
      ],
      "execution_count": 6,
      "outputs": []
    },
    {
      "cell_type": "code",
      "metadata": {
        "id": "mOXlzclsXT5Q"
      },
      "source": [
        "train_batches = make_batches(train)\n",
        "val_batches = make_batches(val)"
      ],
      "execution_count": 7,
      "outputs": []
    },
    {
      "cell_type": "markdown",
      "metadata": {
        "id": "q3ok0NJuXjQH"
      },
      "source": [
        "Hyperparameters"
      ]
    },
    {
      "cell_type": "code",
      "metadata": {
        "id": "aBqbFhDxXmeS"
      },
      "source": [
        "num_layers = 4\n",
        "d_model = 256\n",
        "dff = 1024\n",
        "num_heads = 8\n",
        "dropout_rate = 0.1"
      ],
      "execution_count": 8,
      "outputs": []
    },
    {
      "cell_type": "markdown",
      "metadata": {
        "id": "5uDDG_jfXvWQ"
      },
      "source": [
        "Set Adam Optimizer"
      ]
    },
    {
      "cell_type": "code",
      "metadata": {
        "id": "3MEUXiqhXt6V"
      },
      "source": [
        "learning_rate = CustomSchedule(d_model)\n",
        "\n",
        "optimizer = tf.keras.optimizers.Adam(learning_rate, beta_1=0.9, beta_2=0.98,\n",
        "                                     epsilon=1e-9)"
      ],
      "execution_count": 9,
      "outputs": []
    },
    {
      "cell_type": "markdown",
      "metadata": {
        "id": "aY-LaGtYYBJW"
      },
      "source": [
        "Loss and metrics"
      ]
    },
    {
      "cell_type": "code",
      "metadata": {
        "id": "D4HiTjb-YFT3"
      },
      "source": [
        "train_loss = tf.keras.metrics.Mean(name='train_loss')\n",
        "train_accuracy = tf.keras.metrics.Mean(name='train_accuracy')\n",
        "\n",
        "val_loss = tf.keras.metrics.Mean(name='val_loss')\n",
        "val_accuracy = tf.keras.metrics.Mean(name='val_accuracy')"
      ],
      "execution_count": 10,
      "outputs": []
    },
    {
      "cell_type": "markdown",
      "metadata": {
        "id": "Rq0hnim-YLqk"
      },
      "source": [
        "Training and checkpoint\n"
      ]
    },
    {
      "cell_type": "code",
      "metadata": {
        "id": "0lwoNOLtYJXp"
      },
      "source": [
        "transformer = Transformer(\n",
        "    num_layers=num_layers,\n",
        "    d_model=d_model,\n",
        "    num_heads=num_heads,\n",
        "    dff=dff,\n",
        "    input_vocab_size=tokenizer.get_vocab_size().numpy(),\n",
        "    target_vocab_size=tokenizer.get_vocab_size().numpy(),\n",
        "    pe_input=1000,\n",
        "    pe_target=1000,\n",
        "    rate=dropout_rate)"
      ],
      "execution_count": 11,
      "outputs": []
    },
    {
      "cell_type": "code",
      "metadata": {
        "id": "Gqlj7C65YVHH"
      },
      "source": [
        "checkpoint_path = \"./checkpoints-gen/train\"\n",
        "\n",
        "ckpt = tf.train.Checkpoint(transformer=transformer,\n",
        "                           optimizer=optimizer)\n",
        "\n",
        "ckpt_manager = tf.train.CheckpointManager(ckpt, checkpoint_path, max_to_keep=5)\n",
        "\n",
        "# if a checkpoint exists, restore the latest checkpoint.\n",
        "if ckpt_manager.latest_checkpoint:\n",
        "    ckpt.restore(ckpt_manager.latest_checkpoint)\n",
        "    print('Latest checkpoint restored!!')"
      ],
      "execution_count": 12,
      "outputs": []
    },
    {
      "cell_type": "code",
      "metadata": {
        "id": "d_6U6RisYbrK"
      },
      "source": [
        "EPOCHS = 50"
      ],
      "execution_count": 13,
      "outputs": []
    },
    {
      "cell_type": "code",
      "metadata": {
        "id": "it12KKOdYe-w"
      },
      "source": [
        "# The @tf.function trace-compiles train_step into a TF graph for faster\n",
        "# execution. The function specializes to the precise shape of the argument\n",
        "# tensors. To avoid re-tracing due to the variable sequence lengths or variable\n",
        "# batch sizes (the last batch is smaller), use input_signature to specify\n",
        "# more generic shapes.\n",
        "\n",
        "train_step_signature = [\n",
        "    tf.TensorSpec(shape=(None, None), dtype=tf.int64),\n",
        "    tf.TensorSpec(shape=(None, None), dtype=tf.int64),\n",
        "]\n",
        "\n",
        "\n",
        "@tf.function(input_signature=train_step_signature)\n",
        "def train_step(inp, tar):\n",
        "  tar_inp = tar[:, :-1]\n",
        "  tar_real = tar[:, 1:]\n",
        "\n",
        "  with tf.GradientTape() as tape:\n",
        "    predictions, _ = transformer([inp, tar_inp],\n",
        "                                 training = True)\n",
        "    loss = loss_function(tar_real, predictions)\n",
        "\n",
        "  gradients = tape.gradient(loss, transformer.trainable_variables)\n",
        "  optimizer.apply_gradients(zip(gradients, transformer.trainable_variables))\n",
        "\n",
        "  train_loss(loss)\n",
        "  train_accuracy(accuracy_function(tar_real, predictions))"
      ],
      "execution_count": 14,
      "outputs": []
    },
    {
      "cell_type": "code",
      "metadata": {
        "id": "0GSoUFswYggU"
      },
      "source": [
        "train_losses = []\n",
        "train_accuracies = []\n",
        "val_losses = []\n",
        "val_accuracies = []"
      ],
      "execution_count": 15,
      "outputs": []
    },
    {
      "cell_type": "code",
      "metadata": {
        "id": "ihPztlN2YjSj",
        "colab": {
          "base_uri": "https://localhost:8080/"
        },
        "outputId": "fa5ccc6e-f362-48f9-fa3c-b865205bbf81"
      },
      "source": [
        "for epoch in range(EPOCHS):\n",
        "  start = time.time()\n",
        "\n",
        "  train_loss.reset_states()\n",
        "  train_accuracy.reset_states()\n",
        "  val_loss.reset_states()\n",
        "  val_accuracy.reset_states()\n",
        "\n",
        "  # inp -> X, tar -> y\n",
        "  for (batch, entry) in enumerate(train_batches):\n",
        "    inp = entry[0]\n",
        "    tar = entry[1]\n",
        "    train_step(inp, tar)\n",
        "\n",
        "    #if batch % 50 == 0:\n",
        "    #  print(f'Epoch {epoch + 1} Batch {batch} Loss {train_loss.result():.4f} Accuracy {train_accuracy.result():.4f}')\n",
        "\n",
        "  if (epoch + 1) % 5 == 0:\n",
        "    ckpt_save_path = ckpt_manager.save()\n",
        "    print(f'Saving checkpoint for epoch {epoch+1} at {ckpt_save_path}')\n",
        "  \n",
        "  for val_entry in val_batches:\n",
        "    val_inp = val_entry[0]\n",
        "    val_tar = val_entry[1]\n",
        "    val_tar_inp = val_tar[:, :-1]\n",
        "    val_tar_real = val_tar[:, 1:]\n",
        "    with tf.GradientTape() as tape:\n",
        "      predictions, _ = transformer([val_inp, val_tar_inp],\n",
        "                                 training = False)\n",
        "    loss = loss_function(val_tar_real, predictions)\n",
        "    val_loss(loss)\n",
        "    val_accuracy(accuracy_function(val_tar_real, predictions))\n",
        "  \n",
        "  print(f'Epoch {epoch + 1} Train loss {train_loss.result():.4f} Train accuracy {train_accuracy.result():.4f}')\n",
        "  print(f'Epoch {epoch + 1} Validation loss {val_loss.result():.4f} Validation accuracy {val_accuracy.result():.4f}')\n",
        "\n",
        "  train_losses.append(train_loss.result().numpy())\n",
        "  train_accuracies.append(train_accuracy.result().numpy())\n",
        "  val_losses.append(val_loss.result().numpy())\n",
        "  val_accuracies.append(val_accuracy.result().numpy())\n",
        "\n",
        "  print(f'Time taken for 1 epoch: {time.time() - start:.2f} secs\\n')"
      ],
      "execution_count": 16,
      "outputs": [
        {
          "output_type": "stream",
          "text": [
            "Epoch 1 Train loss 4.3094 Train accuracy 0.1982\n",
            "Epoch 1 Validation loss 3.6650 Validation accuracy 0.2844\n",
            "Time taken for 1 epoch: 22.84 secs\n",
            "\n",
            "Epoch 2 Train loss 3.5396 Train accuracy 0.2947\n",
            "Epoch 2 Validation loss 3.1275 Validation accuracy 0.3581\n",
            "Time taken for 1 epoch: 11.32 secs\n",
            "\n",
            "Epoch 3 Train loss 2.9003 Train accuracy 0.3733\n",
            "Epoch 3 Validation loss 2.5843 Validation accuracy 0.4176\n",
            "Time taken for 1 epoch: 11.31 secs\n",
            "\n",
            "Epoch 4 Train loss 2.5584 Train accuracy 0.4101\n",
            "Epoch 4 Validation loss 2.3944 Validation accuracy 0.4334\n",
            "Time taken for 1 epoch: 11.28 secs\n",
            "\n",
            "Saving checkpoint for epoch 5 at ./checkpoints-gen/train/ckpt-1\n",
            "Epoch 5 Train loss 2.4164 Train accuracy 0.4266\n",
            "Epoch 5 Validation loss 2.3160 Validation accuracy 0.4429\n",
            "Time taken for 1 epoch: 11.67 secs\n",
            "\n",
            "Epoch 6 Train loss 2.3280 Train accuracy 0.4415\n",
            "Epoch 6 Validation loss 2.2470 Validation accuracy 0.4564\n",
            "Time taken for 1 epoch: 11.32 secs\n",
            "\n",
            "Epoch 7 Train loss 2.2678 Train accuracy 0.4515\n",
            "Epoch 7 Validation loss 2.2007 Validation accuracy 0.4635\n",
            "Time taken for 1 epoch: 11.33 secs\n",
            "\n",
            "Epoch 8 Train loss 2.2185 Train accuracy 0.4609\n",
            "Epoch 8 Validation loss 2.1711 Validation accuracy 0.4706\n",
            "Time taken for 1 epoch: 11.37 secs\n",
            "\n",
            "Epoch 9 Train loss 2.1783 Train accuracy 0.4675\n",
            "Epoch 9 Validation loss 2.1127 Validation accuracy 0.4806\n",
            "Time taken for 1 epoch: 11.31 secs\n",
            "\n",
            "Saving checkpoint for epoch 10 at ./checkpoints-gen/train/ckpt-2\n",
            "Epoch 10 Train loss 2.1287 Train accuracy 0.4775\n",
            "Epoch 10 Validation loss 2.0636 Validation accuracy 0.4917\n",
            "Time taken for 1 epoch: 11.67 secs\n",
            "\n",
            "Epoch 11 Train loss 2.0758 Train accuracy 0.4871\n",
            "Epoch 11 Validation loss 2.0127 Validation accuracy 0.4984\n",
            "Time taken for 1 epoch: 11.28 secs\n",
            "\n",
            "Epoch 12 Train loss 2.0240 Train accuracy 0.4973\n",
            "Epoch 12 Validation loss 1.9604 Validation accuracy 0.5064\n",
            "Time taken for 1 epoch: 11.33 secs\n",
            "\n",
            "Epoch 13 Train loss 1.9686 Train accuracy 0.5089\n",
            "Epoch 13 Validation loss 1.9034 Validation accuracy 0.5196\n",
            "Time taken for 1 epoch: 11.30 secs\n",
            "\n",
            "Epoch 14 Train loss 1.9178 Train accuracy 0.5193\n",
            "Epoch 14 Validation loss 1.8387 Validation accuracy 0.5324\n",
            "Time taken for 1 epoch: 11.29 secs\n",
            "\n",
            "Saving checkpoint for epoch 15 at ./checkpoints-gen/train/ckpt-3\n",
            "Epoch 15 Train loss 1.8691 Train accuracy 0.5290\n",
            "Epoch 15 Validation loss 1.8055 Validation accuracy 0.5443\n",
            "Time taken for 1 epoch: 11.71 secs\n",
            "\n",
            "Epoch 16 Train loss 1.8268 Train accuracy 0.5381\n",
            "Epoch 16 Validation loss 1.7699 Validation accuracy 0.5526\n",
            "Time taken for 1 epoch: 11.29 secs\n",
            "\n",
            "Epoch 17 Train loss 1.7871 Train accuracy 0.5462\n",
            "Epoch 17 Validation loss 1.7458 Validation accuracy 0.5598\n",
            "Time taken for 1 epoch: 11.30 secs\n",
            "\n",
            "Epoch 18 Train loss 1.7527 Train accuracy 0.5538\n",
            "Epoch 18 Validation loss 1.7163 Validation accuracy 0.5642\n",
            "Time taken for 1 epoch: 11.30 secs\n",
            "\n",
            "Epoch 19 Train loss 1.7200 Train accuracy 0.5596\n",
            "Epoch 19 Validation loss 1.6889 Validation accuracy 0.5733\n",
            "Time taken for 1 epoch: 11.29 secs\n",
            "\n",
            "Saving checkpoint for epoch 20 at ./checkpoints-gen/train/ckpt-4\n",
            "Epoch 20 Train loss 1.6882 Train accuracy 0.5675\n",
            "Epoch 20 Validation loss 1.6612 Validation accuracy 0.5749\n",
            "Time taken for 1 epoch: 11.66 secs\n",
            "\n",
            "Epoch 21 Train loss 1.6615 Train accuracy 0.5726\n",
            "Epoch 21 Validation loss 1.6529 Validation accuracy 0.5770\n",
            "Time taken for 1 epoch: 11.30 secs\n",
            "\n",
            "Epoch 22 Train loss 1.6336 Train accuracy 0.5794\n",
            "Epoch 22 Validation loss 1.6186 Validation accuracy 0.5845\n",
            "Time taken for 1 epoch: 11.34 secs\n",
            "\n",
            "Epoch 23 Train loss 1.6069 Train accuracy 0.5853\n",
            "Epoch 23 Validation loss 1.5953 Validation accuracy 0.5884\n",
            "Time taken for 1 epoch: 11.33 secs\n",
            "\n",
            "Epoch 24 Train loss 1.5823 Train accuracy 0.5909\n",
            "Epoch 24 Validation loss 1.5880 Validation accuracy 0.5910\n",
            "Time taken for 1 epoch: 11.28 secs\n",
            "\n",
            "Saving checkpoint for epoch 25 at ./checkpoints-gen/train/ckpt-5\n",
            "Epoch 25 Train loss 1.5558 Train accuracy 0.5974\n",
            "Epoch 25 Validation loss 1.5738 Validation accuracy 0.5984\n",
            "Time taken for 1 epoch: 11.65 secs\n",
            "\n",
            "Epoch 26 Train loss 1.5311 Train accuracy 0.6029\n",
            "Epoch 26 Validation loss 1.5421 Validation accuracy 0.6049\n",
            "Time taken for 1 epoch: 11.37 secs\n",
            "\n",
            "Epoch 27 Train loss 1.5068 Train accuracy 0.6095\n",
            "Epoch 27 Validation loss 1.5631 Validation accuracy 0.5970\n",
            "Time taken for 1 epoch: 11.31 secs\n",
            "\n",
            "Epoch 28 Train loss 1.4859 Train accuracy 0.6136\n",
            "Epoch 28 Validation loss 1.5438 Validation accuracy 0.6057\n",
            "Time taken for 1 epoch: 11.31 secs\n",
            "\n",
            "Epoch 29 Train loss 1.4626 Train accuracy 0.6191\n",
            "Epoch 29 Validation loss 1.5265 Validation accuracy 0.6052\n",
            "Time taken for 1 epoch: 11.33 secs\n",
            "\n",
            "Saving checkpoint for epoch 30 at ./checkpoints-gen/train/ckpt-6\n",
            "Epoch 30 Train loss 1.4425 Train accuracy 0.6237\n",
            "Epoch 30 Validation loss 1.5397 Validation accuracy 0.6085\n",
            "Time taken for 1 epoch: 11.65 secs\n",
            "\n",
            "Epoch 31 Train loss 1.4219 Train accuracy 0.6285\n",
            "Epoch 31 Validation loss 1.5204 Validation accuracy 0.6151\n",
            "Time taken for 1 epoch: 11.28 secs\n",
            "\n",
            "Epoch 32 Train loss 1.4026 Train accuracy 0.6327\n",
            "Epoch 32 Validation loss 1.5192 Validation accuracy 0.6086\n",
            "Time taken for 1 epoch: 11.26 secs\n",
            "\n",
            "Epoch 33 Train loss 1.3826 Train accuracy 0.6371\n",
            "Epoch 33 Validation loss 1.5114 Validation accuracy 0.6139\n",
            "Time taken for 1 epoch: 11.29 secs\n",
            "\n",
            "Epoch 34 Train loss 1.3623 Train accuracy 0.6411\n",
            "Epoch 34 Validation loss 1.5315 Validation accuracy 0.6127\n",
            "Time taken for 1 epoch: 11.30 secs\n",
            "\n",
            "Saving checkpoint for epoch 35 at ./checkpoints-gen/train/ckpt-7\n",
            "Epoch 35 Train loss 1.3438 Train accuracy 0.6455\n",
            "Epoch 35 Validation loss 1.5166 Validation accuracy 0.6104\n",
            "Time taken for 1 epoch: 11.67 secs\n",
            "\n",
            "Epoch 36 Train loss 1.3247 Train accuracy 0.6499\n",
            "Epoch 36 Validation loss 1.5280 Validation accuracy 0.6135\n",
            "Time taken for 1 epoch: 11.32 secs\n",
            "\n",
            "Epoch 37 Train loss 1.3047 Train accuracy 0.6545\n",
            "Epoch 37 Validation loss 1.5256 Validation accuracy 0.6145\n",
            "Time taken for 1 epoch: 11.28 secs\n",
            "\n",
            "Epoch 38 Train loss 1.2846 Train accuracy 0.6585\n",
            "Epoch 38 Validation loss 1.5345 Validation accuracy 0.6099\n",
            "Time taken for 1 epoch: 11.34 secs\n",
            "\n",
            "Epoch 39 Train loss 1.2667 Train accuracy 0.6634\n",
            "Epoch 39 Validation loss 1.5375 Validation accuracy 0.6089\n",
            "Time taken for 1 epoch: 11.36 secs\n",
            "\n",
            "Saving checkpoint for epoch 40 at ./checkpoints-gen/train/ckpt-8\n",
            "Epoch 40 Train loss 1.2501 Train accuracy 0.6660\n",
            "Epoch 40 Validation loss 1.5533 Validation accuracy 0.6141\n",
            "Time taken for 1 epoch: 11.67 secs\n",
            "\n",
            "Epoch 41 Train loss 1.2290 Train accuracy 0.6714\n",
            "Epoch 41 Validation loss 1.5592 Validation accuracy 0.6079\n",
            "Time taken for 1 epoch: 11.35 secs\n",
            "\n",
            "Epoch 42 Train loss 1.2098 Train accuracy 0.6753\n",
            "Epoch 42 Validation loss 1.5731 Validation accuracy 0.6096\n",
            "Time taken for 1 epoch: 11.28 secs\n",
            "\n",
            "Epoch 43 Train loss 1.1944 Train accuracy 0.6788\n",
            "Epoch 43 Validation loss 1.5839 Validation accuracy 0.6095\n",
            "Time taken for 1 epoch: 11.29 secs\n",
            "\n",
            "Epoch 44 Train loss 1.1740 Train accuracy 0.6844\n",
            "Epoch 44 Validation loss 1.5706 Validation accuracy 0.6139\n",
            "Time taken for 1 epoch: 11.28 secs\n",
            "\n",
            "Saving checkpoint for epoch 45 at ./checkpoints-gen/train/ckpt-9\n",
            "Epoch 45 Train loss 1.1595 Train accuracy 0.6871\n",
            "Epoch 45 Validation loss 1.5947 Validation accuracy 0.6065\n",
            "Time taken for 1 epoch: 11.67 secs\n",
            "\n",
            "Epoch 46 Train loss 1.1382 Train accuracy 0.6926\n",
            "Epoch 46 Validation loss 1.6106 Validation accuracy 0.6037\n",
            "Time taken for 1 epoch: 11.28 secs\n",
            "\n",
            "Epoch 47 Train loss 1.1221 Train accuracy 0.6952\n",
            "Epoch 47 Validation loss 1.6166 Validation accuracy 0.6092\n",
            "Time taken for 1 epoch: 11.29 secs\n",
            "\n",
            "Epoch 48 Train loss 1.1073 Train accuracy 0.6986\n",
            "Epoch 48 Validation loss 1.6058 Validation accuracy 0.6069\n",
            "Time taken for 1 epoch: 11.28 secs\n",
            "\n",
            "Epoch 49 Train loss 1.0871 Train accuracy 0.7031\n",
            "Epoch 49 Validation loss 1.6525 Validation accuracy 0.6030\n",
            "Time taken for 1 epoch: 11.29 secs\n",
            "\n",
            "Saving checkpoint for epoch 50 at ./checkpoints-gen/train/ckpt-10\n",
            "Epoch 50 Train loss 1.0691 Train accuracy 0.7076\n",
            "Epoch 50 Validation loss 1.6432 Validation accuracy 0.6110\n",
            "Time taken for 1 epoch: 11.67 secs\n",
            "\n"
          ],
          "name": "stdout"
        }
      ]
    },
    {
      "cell_type": "code",
      "metadata": {
        "id": "oLs7RBf9adCu",
        "colab": {
          "base_uri": "https://localhost:8080/",
          "height": 350
        },
        "outputId": "6a4ef8a0-c82a-45e0-c915-f6a0d6c4f0e6"
      },
      "source": [
        "plot_accuracy(train_losses, train_accuracies, val_losses, val_accuracies)"
      ],
      "execution_count": 17,
      "outputs": [
        {
          "output_type": "display_data",
          "data": {
            "image/png": "[encoded data removed]",
            "text/plain": [
              "<Figure size 1080x360 with 2 Axes>"
            ]
          },
          "metadata": {
            "needs_background": "light"
          }
        }
      ]
    },
    {
      "cell_type": "markdown",
      "metadata": {
        "id": "tu96I5mfajDY"
      },
      "source": [
        "Evaluate"
      ]
    },
    {
      "cell_type": "code",
      "metadata": {
        "id": "DNlb7RGntrxK"
      },
      "source": [
        ""
      ],
      "execution_count": 17,
      "outputs": []
    },
    {
      "cell_type": "code",
      "metadata": {
        "id": "1roq-T28ad52"
      },
      "source": [
        "def evaluate(line, max_length=100):\n",
        "  line = tf.convert_to_tensor([line])\n",
        "  line = tokenizer.tokenize(line).to_tensor()\n",
        "\n",
        "  encoder_input = line\n",
        "\n",
        "  start, end = tokenizer.tokenize([''])[0]\n",
        "  output = tf.convert_to_tensor([start])\n",
        "  output = tf.expand_dims(output, 0)\n",
        "  beam_width = 10\n",
        "  beams = []\n",
        "  probabilities = []\n",
        "  for _ in range(beam_width):\n",
        "    beams.append(tf.identity(output))\n",
        "    probabilities.append(0.0)\n",
        "\n",
        "  for j in range(1000):\n",
        "    candidates = []\n",
        "    candidates_probs = []\n",
        "    for k, beam in enumerate(beams):\n",
        "      if beam.numpy()[0][-1] != end:\n",
        "        enc_padding_mask, combined_mask, dec_padding_mask = create_masks(\n",
        "            encoder_input, beam)\n",
        "\n",
        "        # predictions.shape == (batch_size, seq_len, vocab_size)\n",
        "        predictions, attention_weights = transformer.call((encoder_input, beam),\n",
        "                                                    False)\n",
        "        \n",
        "        predictions = tf.nn.softmax(predictions, axis=-1) # TODO remove\n",
        "        # select the last word from the seq_len dimension\n",
        "        predictions = predictions[:, -1:, :]  # (batch_size, 1, vocab_size)\n",
        "        predictions = np.log(predictions.numpy()[0][0])\n",
        "      \n",
        "        indeces = np.argpartition(predictions, -beam_width)[-beam_width:]\n",
        "        values = predictions[indeces] + probabilities[k]\n",
        "        for index, prob in zip(indeces, values):\n",
        "          index = tf.convert_to_tensor([index], dtype=tf.int64)\n",
        "          index = tf.expand_dims(index, 0)\n",
        "          candidates.append(tf.concat([beam, index], axis=-1))\n",
        "          candidates_probs.append(prob)\n",
        "      else:\n",
        "        probabilities[k] = float('inf')\n",
        "    if probabilities == [float('inf') for _ in probabilities]:\n",
        "      break\n",
        "    best_probs = np.argpartition(candidates_probs, -beam_width)[-beam_width:]\n",
        "    for i, prob in enumerate(best_probs):\n",
        "      beams[i] = candidates[prob]\n",
        "      probabilities[i] = candidates_probs[prob]\n",
        "  # print(beams)\n",
        "  # print(probabilities)\n",
        "  text = tokenizer.detokenize(beams[0])[0]\n",
        "  tokens = tokenizer.lookup(beams[0])[0]\n",
        "  return text, tokens, attention_weights\n",
        "  "
      ],
      "execution_count": 18,
      "outputs": []
    },
    {
      "cell_type": "code",
      "metadata": {
        "id": "qA18LR5DanMC"
      },
      "source": [
        "def print_prediction(x, true=None, add_spaces=True):\n",
        "  if true is None:\n",
        "    true = 'Not provided\\n'\n",
        "\n",
        "  if add_spaces:\n",
        "    x = re.sub(' ', ' S ', x)\n",
        "  \n",
        "  predicted, _, _ = evaluate(x)\n",
        "  predicted = predicted.numpy().decode('utf-8')\n",
        "  x = re.sub(' S ', ' ', x)\n",
        "  print(f'Original:\\n{x}\\n')\n",
        "  print(f'Predicted:\\n{predicted}\\n')\n",
        "  print(f'True:\\n{true}\\n')\n",
        "  print('#'*20)"
      ],
      "execution_count": 19,
      "outputs": []
    },
    {
      "cell_type": "code",
      "metadata": {
        "id": "Fa2vkGouapld",
        "colab": {
          "base_uri": "https://localhost:8080/"
        },
        "outputId": "647cc41b-0efa-410e-fc41-9116dccf34c0"
      },
      "source": [
        "test = dataset['test']\n",
        "for batch, (x, y) in enumerate(test.batch(1)):\n",
        "  x = x.numpy()[0].decode('utf-8')\n",
        "  y = y.numpy()[0].decode('utf-8')\n",
        "  print_prediction(x, y, add_spaces=False)\n",
        "  if batch >=10:\n",
        "    break"
      ],
      "execution_count": 21,
      "outputs": [
        {
          "output_type": "stream",
          "text": [
            "Original:\n",
            " e come albero in nave si levò \n",
            "\n",
            "Predicted:\n",
            "|e |l’ un |de’ |che |pa|re|va $da |l’ a|gu|sto\n",
            "|del |qual |si |vol|ge |quel $che |l’ a|ni|me\n",
            "|e |io |a |lei |a |l’ al|to $pie|tra |si|sto\n",
            "\n",
            "True:\n",
            " Y s’ S ï Y o S a Y ves Y si S Y le S Y ri Y me S C as Y pre S e S Y chioc Y ce N Y co Y me S Y si S Y con Y ver Y reb Y be S al S C tri Y sto S Y bu Y co N Y so Y vra S ’l S Y qual S Y pon Y tan S Y tut Y te S C l’ S al Y tre S Y roc Y ce \n",
            "\n",
            "####################\n",
            "Original:\n",
            " or perché in circuito tutto quanto N l’ aere si volge con la prima volta N se non li è rotto il cerchio d’ alcun canto \n",
            "\n",
            "Predicted:\n",
            "|e |se |non |fos|se $ch’ a |no|stra |co|sa|ta\n",
            "|se |tu |se’ |se|gno |che $la |mia |co|stai\n",
            "|e |que|sto |si|ni|stra $co|me |si |to|sa\n",
            "\n",
            "True:\n",
            " Y in S Y que Y sta S al Y tez Y za S Y ch’ S è S C tut Y ta S Y di Y sciol Y ta N Y ne S Y l’ S ae Y re S Y vi Y vo S Y tal S C mo Y to S Y per Y cuo Y te N Y e S Y fa S Y so Y nar S Y la S Y sel Y va S C per Y ch’ S è S Y fol Y ta \n",
            "\n",
            "####################\n",
            "Original:\n",
            " i’ fui colui che la ghisolabella N condussi a far la voglia del marchese N come che suoni la sconcia novella \n",
            "\n",
            "Predicted:\n",
            "|e |quel|la |par|te |che $par|lan|do il |fo|co\n",
            "|l’ a|ni|me |che |l’ a|ni|ma $non |s’ ap|pre|se\n",
            "|e |quel |che |par |che |l’ u|no e $l’ al|to |po|co\n",
            "\n",
            "True:\n",
            " Y e S Y non S Y pur S Y io S Y qui S Y pian Y go S C bo Y lo Y gne Y se N Y an Y zi S Y n’ S è S Y que Y sto S Y lo Y co S C tan Y to S Y pie Y no N Y che S Y tan Y te S Y lin Y gue S Y non S C son S Y o Y ra S ap Y pre Y se \n",
            "\n",
            "####################\n",
            "Original:\n",
            " elli avean cappe con cappucci bassi N dinanzi a li occhi fatte de la taglia N che in clugnì per li monaci fassi \n",
            "\n",
            "Predicted:\n",
            "|che ’n|ten|der |si |fe|ce il $tem|po |si |puo|te\n",
            "|per |l’ a|ni|ma |che |non $par |che |si |puo|te\n",
            "|sì |che ’l |tem|po |che ’l |tem|po $non |si |to|te\n",
            "\n",
            "True:\n",
            " Y di S Y fuor S Y do Y ra Y te S Y son S C sì S Y ch’ S el Y li S ab Y ba Y glia N Y ma S Y den Y tro S Y tut Y te S Y piom Y bo S e S C gra Y vi S Y tan Y to N Y che S Y fe Y de Y ri Y go S C le S Y met Y tea S Y di S Y pa Y glia \n",
            "\n",
            "####################\n",
            "WARNING:tensorflow:5 out of the last 8 calls to <function Tokenizer.detokenize at 0x7efd7822d9e0> triggered tf.function retracing. Tracing is expensive and the excessive number of tracings could be due to (1) creating @tf.function repeatedly in a loop, (2) passing tensors with different shapes, (3) passing Python objects instead of tensors. For (1), please define your @tf.function outside of the loop. For (2), @tf.function has experimental_relax_shapes=True option that relaxes argument shapes that can avoid unnecessary retracing. For (3), please refer to https://www.tensorflow.org/guide/function#controlling_retracing and https://www.tensorflow.org/api_docs/python/tf/function for  more details.\n",
            "WARNING:tensorflow:5 out of the last 8 calls to <function Tokenizer.lookup at 0x7efd2a49c8c0> triggered tf.function retracing. Tracing is expensive and the excessive number of tracings could be due to (1) creating @tf.function repeatedly in a loop, (2) passing tensors with different shapes, (3) passing Python objects instead of tensors. For (1), please define your @tf.function outside of the loop. For (2), @tf.function has experimental_relax_shapes=True option that relaxes argument shapes that can avoid unnecessary retracing. For (3), please refer to https://www.tensorflow.org/guide/function#controlling_retracing and https://www.tensorflow.org/api_docs/python/tf/function for  more details.\n",
            "Original:\n",
            " così l’ animo mio ch’ ancor fuggiva N si volse a retro a rimirar lo passo N che non lasciò già mai persona viva \n",
            "\n",
            "Predicted:\n",
            "|e |quel|la |che |spe|ran|no a $la |mia |spes|sa\n",
            "|quan|do |mi |spir|to |più $che |mi |scos|se\n",
            "|e |que|sta |pian|ta |tu $ve|di |spir|tis|sa\n",
            "\n",
            "True:\n",
            " Y poi S Y ch’ S èi S Y po Y sa Y to S un S Y po Y co S il S C cor Y po S Y las Y so N Y ri Y pre Y si S Y via S C per S Y la S Y piag Y gia S Y di Y ser Y ta N Y sì S Y che S ’l S Y piè S Y fer Y mo S C sem Y pre S e Y ra S ’l S Y più S Y bas Y so \n",
            "\n",
            "####################\n",
            "WARNING:tensorflow:6 out of the last 9 calls to <function Tokenizer.detokenize at 0x7efd7822d9e0> triggered tf.function retracing. Tracing is expensive and the excessive number of tracings could be due to (1) creating @tf.function repeatedly in a loop, (2) passing tensors with different shapes, (3) passing Python objects instead of tensors. For (1), please define your @tf.function outside of the loop. For (2), @tf.function has experimental_relax_shapes=True option that relaxes argument shapes that can avoid unnecessary retracing. For (3), please refer to https://www.tensorflow.org/guide/function#controlling_retracing and https://www.tensorflow.org/api_docs/python/tf/function for  more details.\n",
            "WARNING:tensorflow:6 out of the last 9 calls to <function Tokenizer.lookup at 0x7efd2a49c8c0> triggered tf.function retracing. Tracing is expensive and the excessive number of tracings could be due to (1) creating @tf.function repeatedly in a loop, (2) passing tensors with different shapes, (3) passing Python objects instead of tensors. For (1), please define your @tf.function outside of the loop. For (2), @tf.function has experimental_relax_shapes=True option that relaxes argument shapes that can avoid unnecessary retracing. For (3), please refer to https://www.tensorflow.org/guide/function#controlling_retracing and https://www.tensorflow.org/api_docs/python/tf/function for  more details.\n",
            "Original:\n",
            " poi che noi fummo in su l’ orlo suppremo N de l’ alta ripa a la scoperta piaggia N maestro mio diss’ io che via faremo \n",
            "\n",
            "Predicted:\n",
            "|e |quel|la |che |sia |sta|to a $quel|la |sco|sta\n",
            "|che |par|lar |co|me |co|lui $che |sia |scor|ta\n",
            "|e |co|me |co|lui |che ’l $pian|ge a|sco|sta\n",
            "\n",
            "True:\n",
            " Y ed S Y el Y li S a S Y me S Y nes Y sun S C tuo S Y pas Y so S Y cag Y gia N Y pur S Y su S Y al S Y mon Y te S Y die Y tro S a S C me S Y ac Y qui Y sta N Y fin S Y che S Y n’ S ap Y pa Y ia S al Y cu Y na S C scor Y ta S Y sag Y gia \n",
            "\n",
            "####################\n",
            "Original:\n",
            " e tutti suoi voleri e atti buoni N sono quanto ragione umana vede N sanza peccato in vita o in sermoni \n",
            "\n",
            "Predicted:\n",
            "|e |là |giù |non |fos|se $l’ a|ni|ma |fos|se\n",
            "|la |fa|ce|de |del |tuo $pur |di |lor |fo|co\n",
            "|sì |co|me |l’ uom |che |non $par |sì |fos|se\n",
            "\n",
            "True:\n",
            " Y o Y v’ S è S Y que Y sta S Y giu Y sti Y zia S C che S ’l S Y con Y dan Y na N Y o Y v’ S è S Y la S Y col Y pa S Y sua S C se S Y ei S Y non S Y cre Y de N Y or S Y tu S Y chi S Y se’ S Y che S Y vuo’ S C se Y de Y re S a S Y scran Y na \n",
            "\n",
            "####################\n",
            "Original:\n",
            " ma dimmi chi tu se’ che ’n sì dolente N loco se’ messo e hai sì fatta pena N che s’ altra è maggio nulla è sì spiacente \n",
            "\n",
            "Predicted:\n",
            "|e |quel|la |che |non |fa $l’ a|ni|ma |fo|co\n",
            "|se |non |pur |se |là |giù $per |quel|la |pro|ce\n",
            "|che |non |pur |se |non |fos|se $l’ a|ni|o|co\n",
            "\n",
            "True:\n",
            " Y ed S Y el Y li S a S Y me S Y la S Y tua S C cit Y tà S Y ch’ S è S Y pie Y na N Y d’ S in Y vi Y dia S Y sì S Y che S Y già S C tra Y boc Y ca S il S Y sac Y co N Y se Y co S Y mi S Y ten Y ne S in S C la S Y vi Y ta S Y se Y re Y na \n",
            "\n",
            "####################\n",
            "Original:\n",
            " questa picciola stella si correda N d’ i buoni spirti che son stati attivi N perché onore e fama li succeda \n",
            "\n",
            "Predicted:\n",
            "|e |se |non |fos|se |che $di |sé |di|scen|de\n",
            "|la |men|te |mia |do|ve $di |spi|ri|ta|te\n",
            "|che |di |se|gui|tar $se |ne |la |men|te |splen|de\n",
            "\n",
            "True:\n",
            " Y sì S Y di Y svï Y an Y do S Y pur S C con Y vien S Y che S i S Y rag Y gi N Y del S Y ve Y ro S a Y mo Y re S in S Y sù S C pog Y gin S Y men S Y vi Y vi N Y ma S Y nel S Y com Y men Y su Y rar S C d’ S i S Y no Y stri S Y gag Y gi \n",
            "\n",
            "####################\n",
            "Original:\n",
            " quale sovresso il nido si rigira N poi c’ ha pasciuti la cicogna i figli N e come quel ch’ è pasto la rimira \n",
            "\n",
            "Predicted:\n",
            "|e |se |non |fos|se |che $da |l’ al|tro |pia|ce\n",
            "|per |ch’ io |av|ve|gna $da |la |sua |ma|gna\n",
            "|di |mez|za |di|smo e |l’ al|to $pun|to |no|ce\n",
            "\n",
            "True:\n",
            " Y la S Y be Y ne Y det Y ta S i Y ma Y gi Y ne S C che S Y l’ S a Y li N Y mo Y vea S Y so Y spin Y te S C da S Y tan Y ti S Y con Y si Y gli N Y ro Y te Y an Y do S Y can Y ta Y va S e S C di Y cea S Y qua Y li \n",
            "\n",
            "####################\n",
            "Original:\n",
            " esso parlava ancor de la larghezza N che fece niccolò a le pulcelle N per condurre ad onor lor giovinezza \n",
            "\n",
            "Predicted:\n",
            "|e |io |che |non |m’ a|vea $l’ a|scol|tan|to |mu|to\n",
            "|per |lo |rag|gio |che $di |sé |le |spal|le\n",
            "|e |io |a |lei |che |non $non |m’ ap|pa|ria\n",
            "\n",
            "True:\n",
            " Y o S Y a Y ni Y ma S Y che S Y tan Y to S C ben S Y fa Y vel Y le N Y dim Y mi S Y chi S Y fo Y sti S Y dis Y si S e S C per Y ché S Y so Y la N Y tu S Y que Y ste S Y de Y gne S Y lo Y de S C ri Y no Y vel Y le \n",
            "\n",
            "####################\n"
          ],
          "name": "stdout"
        }
      ]
    }
  ]
}