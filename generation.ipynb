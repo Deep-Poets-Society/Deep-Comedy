{
 "cells": [
  {
   "cell_type": "code",
   "execution_count": null,
   "metadata": {
    "collapsed": true
   },
   "outputs": [],
   "source": [
    "# Google Colab Setup\n",
    "\n",
    "import sys\n",
    "import os\n",
    "\n",
    "%cd /content\n",
    "!rm -rf Deep-Comedy &> /dev/null\n",
    "!git clone https://github.com/Deep-Poets-Society/Deep-Comedy &> /dev/null\n",
    "%cd Deep-Comedy\n",
    "\n",
    "sys.path.append(os.getcwd())\n",
    "\n",
    "!pip install tensorflow &> /dev/null\n",
    "!pip install tensorflow_text &> /dev/null"
   ]
  },
  {
   "cell_type": "code",
   "execution_count": null,
   "outputs": [],
   "source": [
    "from tokenizer import Tokenizer\n",
    "import tensorflow as tf\n",
    "import time\n",
    "import numpy as np\n",
    "import re\n",
    "from matplotlib import pyplot as plt\n",
    "from utils import load_dataset_for_gen, positional_encoding, loss_function, accuracy_function\n",
    "from models import Transformer, create_masks\n",
    "from schedules import CustomSchedule"
   ],
   "metadata": {
    "collapsed": false,
    "pycharm": {
     "name": "#%%\n"
    }
   }
  },
  {
   "cell_type": "code",
   "execution_count": null,
   "outputs": [],
   "source": [],
   "metadata": {
    "collapsed": false,
    "pycharm": {
     "name": "#%%\n"
    }
   }
  }
 ],
 "metadata": {
  "kernelspec": {
   "display_name": "Python 3",
   "language": "python",
   "name": "python3"
  },
  "language_info": {
   "codemirror_mode": {
    "name": "ipython",
    "version": 2
   },
   "file_extension": ".py",
   "mimetype": "text/x-python",
   "name": "python",
   "nbconvert_exporter": "python",
   "pygments_lexer": "ipython2",
   "version": "2.7.6"
  }
 },
 "nbformat": 4,
 "nbformat_minor": 0
}