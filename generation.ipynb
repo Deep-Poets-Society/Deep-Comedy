{
  "nbformat": 4,
  "nbformat_minor": 0,
  "metadata": {
    "kernelspec": {
      "display_name": "Python 3",
      "language": "python",
      "name": "python3"
    },
    "language_info": {
      "codemirror_mode": {
        "name": "ipython",
        "version": 2
      },
      "file_extension": ".py",
      "mimetype": "text/x-python",
      "name": "python",
      "nbconvert_exporter": "python",
      "pygments_lexer": "ipython2",
      "version": "2.7.6"
    },
    "colab": {
      "name": "generation.ipynb",
      "provenance": [],
      "machine_shape": "hm",
      "include_colab_link": true
    },
    "accelerator": "GPU"
  },
  "cells": [
    {
      "cell_type": "markdown",
      "metadata": {
        "id": "view-in-github",
        "colab_type": "text"
      },
      "source": [
        "<a href=\"https://colab.research.google.com/github/Deep-Poets-Society/Deep-Comedy/blob/main/generation.ipynb\" target=\"_parent\"><img src=\"https://colab.research.google.com/assets/colab-badge.svg\" alt=\"Open In Colab\"/></a>"
      ]
    },
    {
      "cell_type": "code",
      "metadata": {
        "collapsed": true,
        "id": "meOETGziWXvK",
        "colab": {
          "base_uri": "https://localhost:8080/"
        },
        "outputId": "9e5e5ced-a606-4ac5-ab12-d254350fad81"
      },
      "source": [
        "# Google Colab Setup\n",
        "\n",
        "import sys\n",
        "import os\n",
        "\n",
        "%cd /content\n",
        "!rm -rf Deep-Comedy &> /dev/null\n",
        "!git clone https://github.com/Deep-Poets-Society/Deep-Comedy &> /dev/null\n",
        "%cd Deep-Comedy\n",
        "sys.path.append(os.getcwd())\n",
        "!git clone https://gitlab.com/sasso-effe/deep-comedy-checkpoints.git &> /dev/null\n",
        "\n",
        "!pip install tensorflow &> /dev/null\n",
        "!pip install tensorflow_text &> /dev/null"
      ],
      "execution_count": 1,
      "outputs": [
        {
          "output_type": "stream",
          "name": "stdout",
          "text": [
            "/content\n",
            "/content/Deep-Comedy\n"
          ]
        }
      ]
    },
    {
      "cell_type": "code",
      "metadata": {
        "pycharm": {
          "name": "#%%\n"
        },
        "id": "_obGbyOAWXvN"
      },
      "source": [
        "from tokenizer import Tokenizer\n",
        "import tensorflow as tf\n",
        "import time\n",
        "import numpy as np\n",
        "import re\n",
        "from matplotlib import pyplot as plt\n",
        "from utils import load_dataset_for_gen, positional_encoding, loss_function, accuracy_function, plot_accuracy\n",
        "from models import Transformer, create_masks\n",
        "from schedules import CustomSchedule\n",
        "from preprocessing import CESURA, SPACE, SYL, NEW_LINE\n",
        "import random"
      ],
      "execution_count": 2,
      "outputs": []
    },
    {
      "cell_type": "code",
      "metadata": {
        "pycharm": {
          "name": "#%%\n"
        },
        "id": "iISOBuwsWXvO"
      },
      "source": [
        "dataset = load_dataset_for_gen()\n",
        "train = dataset['train']\n",
        "val = dataset['val']"
      ],
      "execution_count": 3,
      "outputs": []
    },
    {
      "cell_type": "code",
      "metadata": {
        "id": "F7hZPa0rWsFK"
      },
      "source": [
        "tokenizer = Tokenizer(['[START]', '[END]', f'{SPACE}', f'{NEW_LINE}'], 'res/vocab_gen.txt')"
      ],
      "execution_count": 4,
      "outputs": []
    },
    {
      "cell_type": "code",
      "metadata": {
        "id": "6oyo9jVqXEBP"
      },
      "source": [
        "BUFFER_SIZE = 20000\n",
        "BATCH_SIZE = 64"
      ],
      "execution_count": 5,
      "outputs": []
    },
    {
      "cell_type": "code",
      "metadata": {
        "id": "yjuN7z5UXPyf"
      },
      "source": [
        "def tokenize_pairs(X, y):\n",
        "    X = tokenizer.tokenize(X)\n",
        "    # Convert from ragged to dense, padding with zeros.\n",
        "    X = X.to_tensor()\n",
        "\n",
        "    y = tokenizer.tokenize(y)\n",
        "    # Convert from ragged to dense, padding with zeros.\n",
        "    y = y.to_tensor()\n",
        "\n",
        "    return X, y\n",
        "\n",
        "\n",
        "def make_batches(ds):\n",
        "    return (ds\n",
        "            .cache()\n",
        "            .shuffle(BUFFER_SIZE)\n",
        "            .batch(BATCH_SIZE)\n",
        "            .map(tokenize_pairs, num_parallel_calls=tf.data.AUTOTUNE)\n",
        "            .prefetch(tf.data.AUTOTUNE)\n",
        "            )"
      ],
      "execution_count": 6,
      "outputs": []
    },
    {
      "cell_type": "code",
      "metadata": {
        "id": "mOXlzclsXT5Q"
      },
      "source": [
        "train_batches = make_batches(train)\n",
        "val_batches = make_batches(val)"
      ],
      "execution_count": 7,
      "outputs": []
    },
    {
      "cell_type": "markdown",
      "metadata": {
        "id": "q3ok0NJuXjQH"
      },
      "source": [
        "Hyperparameters"
      ]
    },
    {
      "cell_type": "code",
      "metadata": {
        "id": "aBqbFhDxXmeS"
      },
      "source": [
        "num_layers = 6\n",
        "d_model = 512\n",
        "dff = 2048\n",
        "num_heads = 8\n",
        "dropout_rate = 0.1"
      ],
      "execution_count": 8,
      "outputs": []
    },
    {
      "cell_type": "markdown",
      "metadata": {
        "id": "5uDDG_jfXvWQ"
      },
      "source": [
        "Set Adam Optimizer"
      ]
    },
    {
      "cell_type": "code",
      "metadata": {
        "id": "3MEUXiqhXt6V"
      },
      "source": [
        "learning_rate = CustomSchedule(d_model)\n",
        "\n",
        "optimizer = tf.keras.optimizers.Adam(learning_rate, beta_1=0.9, beta_2=0.98,\n",
        "                                     epsilon=1e-9)"
      ],
      "execution_count": 9,
      "outputs": []
    },
    {
      "cell_type": "markdown",
      "metadata": {
        "id": "aY-LaGtYYBJW"
      },
      "source": [
        "Loss and metrics"
      ]
    },
    {
      "cell_type": "code",
      "metadata": {
        "id": "D4HiTjb-YFT3"
      },
      "source": [
        "train_loss = tf.keras.metrics.Mean(name='train_loss')\n",
        "train_accuracy = tf.keras.metrics.Mean(name='train_accuracy')\n",
        "\n",
        "val_loss = tf.keras.metrics.Mean(name='val_loss')\n",
        "val_accuracy = tf.keras.metrics.Mean(name='val_accuracy')"
      ],
      "execution_count": 10,
      "outputs": []
    },
    {
      "cell_type": "markdown",
      "metadata": {
        "id": "Rq0hnim-YLqk"
      },
      "source": [
        "Training and checkpoint\n"
      ]
    },
    {
      "cell_type": "code",
      "metadata": {
        "id": "0lwoNOLtYJXp"
      },
      "source": [
        "transformer = Transformer(\n",
        "    num_layers=num_layers,\n",
        "    d_model=d_model,\n",
        "    num_heads=num_heads,\n",
        "    dff=dff,\n",
        "    input_vocab_size=tokenizer.get_vocab_size().numpy(),\n",
        "    target_vocab_size=tokenizer.get_vocab_size().numpy(),\n",
        "    pe_input=1000,\n",
        "    pe_target=1000,\n",
        "    rate=dropout_rate)"
      ],
      "execution_count": 11,
      "outputs": []
    },
    {
      "cell_type": "code",
      "metadata": {
        "id": "BIIW-AuGneWq"
      },
      "source": [
        "restore_checkpoint = True"
      ],
      "execution_count": 12,
      "outputs": []
    },
    {
      "cell_type": "code",
      "metadata": {
        "id": "Gqlj7C65YVHH",
        "outputId": "76e0e305-52e6-4da1-e759-2cee8585d152",
        "colab": {
          "base_uri": "https://localhost:8080/"
        }
      },
      "source": [
        "checkpoint_path = \"./deep-comedy-checkpoints/gen\"\n",
        "\n",
        "ckpt = tf.train.Checkpoint(transformer=transformer,\n",
        "                           optimizer=optimizer)\n",
        "\n",
        "ckpt_manager = tf.train.CheckpointManager(ckpt, checkpoint_path, max_to_keep=5)\n",
        "\n",
        "# if a checkpoint exists, restore the latest checkpoint.\n",
        "if restore_checkpoint and ckpt_manager.latest_checkpoint:\n",
        "    checkpoint = ckpt_manager.checkpoints[0]\n",
        "    ckpt.restore(checkpoint)\n",
        "    print('Checkpoint restored!!')\n",
        "    print(checkpoint)"
      ],
      "execution_count": 14,
      "outputs": [
        {
          "output_type": "stream",
          "name": "stdout",
          "text": [
            "Checkpoint restored!!\n",
            "./deep-comedy-checkpoints/gen/ckpt-1\n"
          ]
        }
      ]
    },
    {
      "cell_type": "code",
      "metadata": {
        "id": "d_6U6RisYbrK"
      },
      "source": [
        "EPOCHS = 50"
      ],
      "execution_count": 15,
      "outputs": []
    },
    {
      "cell_type": "code",
      "metadata": {
        "id": "it12KKOdYe-w"
      },
      "source": [
        "# The @tf.function trace-compiles train_step into a TF graph for faster\n",
        "# execution. The function specializes to the precise shape of the argument\n",
        "# tensors. To avoid re-tracing due to the variable sequence lengths or variable\n",
        "# batch sizes (the last batch is smaller), use input_signature to specify\n",
        "# more generic shapes.\n",
        "\n",
        "train_step_signature = [\n",
        "    tf.TensorSpec(shape=(None, None), dtype=tf.int64),\n",
        "    tf.TensorSpec(shape=(None, None), dtype=tf.int64),\n",
        "]\n",
        "\n",
        "\n",
        "@tf.function(input_signature=train_step_signature)\n",
        "def train_step(inp, tar):\n",
        "  tar_inp = tar[:, :-1]\n",
        "  tar_real = tar[:, 1:]\n",
        "\n",
        "  with tf.GradientTape() as tape:\n",
        "    predictions, _ = transformer([inp, tar_inp],\n",
        "                                 training = True)\n",
        "    loss = loss_function(tar_real, predictions)\n",
        "\n",
        "  gradients = tape.gradient(loss, transformer.trainable_variables)\n",
        "  optimizer.apply_gradients(zip(gradients, transformer.trainable_variables))\n",
        "\n",
        "  train_loss(loss)\n",
        "  train_accuracy(accuracy_function(tar_real, predictions))"
      ],
      "execution_count": 16,
      "outputs": []
    },
    {
      "cell_type": "code",
      "metadata": {
        "id": "0GSoUFswYggU"
      },
      "source": [
        "train_losses = []\n",
        "train_accuracies = []\n",
        "val_losses = []\n",
        "val_accuracies = []"
      ],
      "execution_count": 17,
      "outputs": []
    },
    {
      "cell_type": "code",
      "metadata": {
        "id": "ihPztlN2YjSj"
      },
      "source": [
        "if not restore_checkpoint:\n",
        "  for epoch in range(EPOCHS):\n",
        "    start = time.time()\n",
        "\n",
        "    train_loss.reset_states()\n",
        "    train_accuracy.reset_states()\n",
        "    val_loss.reset_states()\n",
        "    val_accuracy.reset_states()\n",
        "\n",
        "    # inp -> X, tar -> y\n",
        "    for (batch, entry) in enumerate(train_batches):\n",
        "      inp = entry[0]\n",
        "      tar = entry[1]\n",
        "      train_step(inp, tar)\n",
        "\n",
        "      #if batch % 50 == 0:\n",
        "      #  print(f'Epoch {epoch + 1} Batch {batch} Loss {train_loss.result():.4f} Accuracy {train_accuracy.result():.4f}')\n",
        "\n",
        "    if (epoch + 1) % 50 == 0:\n",
        "      ckpt_save_path = ckpt_manager.save()\n",
        "      print(f'Saving checkpoint for epoch {epoch+1} at {ckpt_save_path}')\n",
        "    \n",
        "    for val_entry in val_batches:\n",
        "      val_inp = val_entry[0]\n",
        "      val_tar = val_entry[1]\n",
        "      val_tar_inp = val_tar[:, :-1]\n",
        "      val_tar_real = val_tar[:, 1:]\n",
        "      with tf.GradientTape() as tape:\n",
        "        predictions, _ = transformer([val_inp, val_tar_inp],\n",
        "                                  training = False)\n",
        "      loss = loss_function(val_tar_real, predictions)\n",
        "      val_loss(loss)\n",
        "      val_accuracy(accuracy_function(val_tar_real, predictions))\n",
        "    \n",
        "    print(f'Epoch {epoch + 1} Train loss {train_loss.result():.4f} Train accuracy {train_accuracy.result():.4f}')\n",
        "    print(f'Epoch {epoch + 1} Validation loss {val_loss.result():.4f} Validation accuracy {val_accuracy.result():.4f}')\n",
        "\n",
        "    train_losses.append(train_loss.result().numpy())\n",
        "    train_accuracies.append(train_accuracy.result().numpy())\n",
        "    val_losses.append(val_loss.result().numpy())\n",
        "    val_accuracies.append(val_accuracy.result().numpy())\n",
        "\n",
        "    print(f'Time taken for 1 epoch: {time.time() - start:.2f} secs\\n')"
      ],
      "execution_count": 18,
      "outputs": []
    },
    {
      "cell_type": "markdown",
      "metadata": {
        "id": "tu96I5mfajDY"
      },
      "source": [
        "Evaluate"
      ]
    },
    {
      "cell_type": "code",
      "metadata": {
        "id": "3fVPuPqlJGHA"
      },
      "source": [
        "def add_randomness(arr, r):\n",
        "  rand_arr = [1.0 + random.uniform(-r, r) for _ in arr]\n",
        "  rand_arr = np.array(rand_arr, dtype = float)\n",
        "  return np.multiply(arr, rand_arr)"
      ],
      "execution_count": 19,
      "outputs": []
    },
    {
      "cell_type": "code",
      "metadata": {
        "id": "1roq-T28ad52"
      },
      "source": [
        "def beam_search(line, max_length=1000, beam_width=10, random_factor=0.1):\n",
        "  '''\n",
        "  Parameters\n",
        "  ----------\n",
        "  line : str\n",
        "      The input line\n",
        "  max_length : int, optional\n",
        "      The max length in tokens of the output string (default is 1000)\n",
        "  beam_wodth : int, optional\n",
        "      The number of beams (default is 10)\n",
        "  random_factor : float, optional\n",
        "      To get a non-deterministic solution\n",
        "  '''\n",
        "  line = tf.convert_to_tensor([line])\n",
        "  encoder_input = tokenizer.tokenize(line).to_tensor()\n",
        "\n",
        "  start, end = tokenizer.tokenize([''])[0]\n",
        "  output = tf.convert_to_tensor([start])\n",
        "  output = tf.expand_dims(output, 0)\n",
        "\n",
        "  # predictions.shape == (batch_size, seq_len, vocab_size)\n",
        "  predictions, attention_weights = transformer.call((encoder_input, output),\n",
        "                                              False)\n",
        "  predictions = tf.nn.softmax(predictions, axis=-1)\n",
        "  # select the last word from the seq_len dimension\n",
        "  predictions = predictions[:, -1:, :]  # (batch_size, 1, vocab_size)\n",
        "  predictions = add_randomness(predictions.numpy()[0][0], random_factor) \n",
        "  predictions = np.log(predictions)\n",
        "  tokens = np.argpartition(predictions, -beam_width)[-beam_width:]\n",
        "  probabilities = predictions[tokens]\n",
        "  beams = []\n",
        "  for token in tokens:\n",
        "    token = tf.convert_to_tensor([token], dtype=tf.int64)\n",
        "    token = tf.expand_dims(token, 0)\n",
        "    beams.append(tf.concat([output, token], axis=-1))\n",
        "\n",
        "  for j in range(max_length-1):\n",
        "    n_ended = 0\n",
        "    candidates = []\n",
        "    candidates_probs = []\n",
        "    is_all_ended = True\n",
        "    for k, beam in enumerate(beams):\n",
        "      if beam.numpy()[0][-1] != end:\n",
        "        is_all_ended = False\n",
        "        # predictions.shape == (batch_size, seq_len, vocab_size)\n",
        "        predictions, attention_weights = transformer.call((encoder_input, beam),\n",
        "                                                    False)\n",
        "        predictions = tf.nn.softmax(predictions, axis=-1)\n",
        "        # select the last word from the seq_len dimension\n",
        "        predictions = predictions[:, -1:, :]  # (batch_size, 1, vocab_size)\n",
        "        predictions = add_randomness(predictions.numpy()[0][0], random_factor) \n",
        "        predictions = np.log(predictions)\n",
        "        indeces = np.argpartition(predictions, -beam_width)[-beam_width:]\n",
        "        values = predictions[indeces] + probabilities[k]\n",
        "        for index, prob in zip(indeces, values):\n",
        "          index = tf.convert_to_tensor([index], dtype=tf.int64)\n",
        "          index = tf.expand_dims(index, 0)\n",
        "          candidates.append(tf.concat([beam, index], axis=-1))\n",
        "          candidates_probs.append(prob)\n",
        "      else:\n",
        "        n_ended += 1\n",
        "    if is_all_ended:\n",
        "      break\n",
        "    best_probs = np.argpartition(candidates_probs, -(beam_width-n_ended))[-(beam_width-n_ended):]\n",
        "    counter = 0\n",
        "    for i in range(len(beams)):\n",
        "      if beams[i].numpy()[0][-1] != end:\n",
        "        beams[i] = candidates[best_probs[counter]]\n",
        "        probabilities[i] = candidates_probs[best_probs[counter]]\n",
        "        counter += 1\n",
        "\n",
        "  text = tokenizer.detokenize(beams[0])[0]\n",
        "  tokens = tokenizer.lookup(beams[0])[0]\n",
        "  return text, tokens, attention_weights\n",
        "  "
      ],
      "execution_count": 20,
      "outputs": []
    },
    {
      "cell_type": "code",
      "metadata": {
        "id": "x3j_rtteQp_D"
      },
      "source": [
        "def top_k(line, max_length=1000, k=1, r=1.0):\n",
        "  '''\n",
        "  Parameters\n",
        "  ----------\n",
        "  line : str\n",
        "      The input line\n",
        "  max_length : int, optional\n",
        "      The max length in tokens of the output string (default is 1000)\n",
        "  k : int, optional\n",
        "      The parameter k of top-k sampling, with 1 the function behaves as a\n",
        "      standard greedy selection (default is 1)\n",
        "  r : float, optional\n",
        "      sampling is applied with probability r, so with r=0.0 the function behaves\n",
        "      as a standard greedy selection, with r=1.0 as a standard top-k sampling\n",
        "      (default is 1.0)\n",
        "  '''\n",
        "  line = tf.convert_to_tensor([line])\n",
        "  line = tokenizer.tokenize(line).to_tensor()\n",
        "\n",
        "  encoder_input = line\n",
        "\n",
        "  start, end = tokenizer.tokenize([''])[0]\n",
        "  output = tf.convert_to_tensor([start])\n",
        "  output = tf.expand_dims(output, 0)\n",
        "\n",
        "  for i in range(max_length):\n",
        "    # predictions.shape == (batch_size, seq_len, vocab_size)\n",
        "    predictions, attention_weights = transformer.call((encoder_input, output),\n",
        "                                                 False)\n",
        "    # select the last word from the seq_len dimension\n",
        "    predictions = predictions[:, -1:, :]  # (batch_size, 1, vocab_size)\n",
        "    if i > 0 and random.random() < r:\n",
        "      predictions = tf.nn.softmax(predictions, axis=-1)\n",
        "      top = tf.math.top_k(predictions.numpy()[0][0], k=k)\n",
        "      predicted_id = random.choices(top.indices.numpy(), weights=top.values.numpy(), k=1)\n",
        "      predicted_id = tf.convert_to_tensor([predicted_id], dtype=tf.int64)\n",
        "    else:\n",
        "      predicted_id = tf.argmax(predictions, axis=-1)\n",
        "    # concatentate the predicted_id to the output which is given to the decoder\n",
        "    # as its input.\n",
        "    output = tf.concat([output, predicted_id], axis=-1)\n",
        "    # return the result if the predicted_id is equal to the end token\n",
        "    if predicted_id == end:\n",
        "      break\n",
        "\n",
        "  # output.shape (1, tokens)\n",
        "  text = tokenizer.detokenize(output)[0]\n",
        "  tokens = tokenizer.lookup(output)[0]\n",
        "  return text, tokens, attention_weights"
      ],
      "execution_count": 21,
      "outputs": []
    },
    {
      "cell_type": "code",
      "metadata": {
        "id": "qA18LR5DanMC"
      },
      "source": [
        "def print_prediction(x, true=None, add_spaces=True):\n",
        "  if true is None:\n",
        "    true = 'Not provided\\n'\n",
        "\n",
        "  if add_spaces:\n",
        "    x = re.sub(' ', ' S ', x)\n",
        "  \n",
        "  predicted, _, _ = beam_search(x)\n",
        "  predicted = predicted.numpy().decode('utf-8')\n",
        "  x = re.sub(' S ', ' ', x)\n",
        "  print(f'Original:\\n{x}\\n')\n",
        "  print(f'Predicted:\\n{predicted}\\n')\n",
        "  print(f'True:\\n{true}\\n')\n",
        "  print('#'*50)"
      ],
      "execution_count": 22,
      "outputs": []
    },
    {
      "cell_type": "code",
      "metadata": {
        "id": "yZZrD-5bh4k3",
        "colab": {
          "base_uri": "https://localhost:8080/"
        },
        "outputId": "2b03b5ef-4576-461a-be31-15238c33085d"
      },
      "source": [
        "import os\n",
        "os.environ['TF_CPP_MIN_LOG_LEVEL'] = '3'\n",
        "\n",
        "test = dataset['test']\n",
        "pick = 2\n",
        "print(\"seed number:\", pick)\n",
        "tercets = random.randint(5, 5)\n",
        "for i, (x, y) in enumerate(test.batch(1)):\n",
        "  if i == pick:\n",
        "    x = x.numpy()[0].decode('utf-8')\n",
        "    break\n",
        "print('seed:\\n' + re.sub(' S ', ' ', re.sub(' N ', '\\n ', x)) + '\\n')\n",
        "print('---generated:---\\n')\n",
        "for i in range(tercets):\n",
        "  predicted, _, _ = beam_search(x, beam_width=5, random_factor=0)\n",
        "  predicted = predicted.numpy().decode('utf-8')\n",
        "  print(predicted + '\\n')\n",
        "  x = re.sub('[|$]', '', re.sub(r'\\n', ' N ', re.sub(' ', ' S ', predicted)))"
      ],
      "execution_count": 31,
      "outputs": [
        {
          "output_type": "stream",
          "name": "stdout",
          "text": [
            "seed number: 2\n",
            "seed:\n",
            " i’ fui colui che la ghisolabella\n",
            " condussi a far la voglia del marchese\n",
            " come che suoni la sconcia novella \n",
            "\n",
            "---generated:---\n",
            "\n",
            " |ben |m’ ac|cor|si |ch’ el|li e|ra $da |ciel |mes|so\n",
            "|ch’ io |vol|gea i |cad|di e $ri|ma|se e ’l |vol|to\n",
            "|non |per |ve|der |non |ei $com’ |io |ti |mes|so\n",
            "\n",
            "|co|sì |l’ ae|re |vi|cin $qui|vi |si |mi|ra\n",
            "|qui|vi è il |gran |d’ o|gne $par|te u|dir |quin|ta\n",
            "|co|sì |ri|spuo|se a |me $che |ti |ri|mi|ra\n",
            "\n",
            "|e |l’ al|tro |dis|se |quel $che |tu |hai |guar|do\n",
            "|ri|tro|ve|rai |co|me a $quel|l’ uom |ti|ra\n",
            "|co|me an|cor |ti |sa|reb|be in $ma|ra|vi|glia\n",
            "\n",
            " |ben |ma|e|stro |mio $dis|s’ io |ch’ io |vi|di\n",
            "|ed |el |s’ ac|cor|s’ io |e|ra $sì |com’ |el|l’ ac|cor|to\n",
            "|ch’ io |di|co |co|lui $che |fui |tut|ti |ti|ri\n",
            "\n",
            " |ben |ma|e|stro |mio $dis|s’ io io |ch’ io |vi|di\n",
            "|ed |el |s’ ac|cor|s’ io |ed $ed |el |s’ io |vol|to\n",
            "|vol|si a |lo ’m|pe|di|re e $quel |che |tu |mi |di\n",
            "\n"
          ]
        }
      ]
    }
  ]
}